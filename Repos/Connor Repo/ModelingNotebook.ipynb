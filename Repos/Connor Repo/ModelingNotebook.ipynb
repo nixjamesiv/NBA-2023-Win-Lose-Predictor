{
 "cells": [
  {
   "cell_type": "code",
   "execution_count": null,
   "metadata": {},
   "outputs": [],
   "source": [
    "import pandas as pd\n",
    "import seaborn as sns\n",
    "import numpy as np\n",
    "import matplotlib.pyplot as plt\n",
    "from sklearn.tree import DecisionTreeClassifier\n",
    "from sklearn.model_selection import train_test_split, cross_val_score\n",
    "from sklearn.metrics import mean_squared_error\n",
    "from sklearn.impute import SimpleImputer\n",
    "from sklearn.linear_model import LinearRegression\n",
    "from sklearn.tree import DecisionTreeRegressor\n",
    "from sklearn.neighbors import KNeighborsRegressor\n",
    "from sklearn.ensemble import VotingClassifier\n",
    "from sklearn.ensemble import BaggingClassifier\n",
    "from sklearn.ensemble import RandomForestClassifier\n",
    "from sklearn.ensemble import ExtraTreesClassifier\n",
    "from sklearn.pipeline import Pipeline\n",
    "from sklearn.metrics import accuracy_score, f1_score, recall_score, roc_auc_score, plot_confusion_matrix, confusion_matrix, plot_roc_curve, precision_score\n",
    "from sklearn.preprocessing import StandardScaler, OneHotEncoder, MinMaxScaler\n",
    "from sklearn.compose import ColumnTransformer\n",
    "from sklearn.linear_model import LinearRegression\n",
    "from sklearn.neighbors import KNeighborsRegressor\n",
    "from sklearn.ensemble import StackingRegressor\n",
    "from sklearn.ensemble import AdaBoostClassifier\n",
    "from sklearn.model_selection import GridSearchCV\n",
    "from sklearn.naive_bayes import GaussianNB, MultinomialNB, ComplementNB\n",
    "import xgboost as xgb"
   ]
  },
  {
   "cell_type": "code",
   "execution_count": null,
   "metadata": {},
   "outputs": [],
   "source": [
    "df = pd.read_csv(\"../../Data/win_loss_completed_df.csv\")"
   ]
  },
  {
   "cell_type": "code",
   "execution_count": null,
   "metadata": {},
   "outputs": [],
   "source": [
    "df"
   ]
  },
  {
   "cell_type": "code",
   "execution_count": null,
   "metadata": {},
   "outputs": [],
   "source": [
    "df = df.drop(columns=[\"team1\",\"team2\"])\n"
   ]
  },
  {
   "cell_type": "code",
   "execution_count": null,
   "metadata": {},
   "outputs": [],
   "source": [
    "cols = list(df.drop(columns=[\"pts\"]).columns)"
   ]
  },
  {
   "cell_type": "code",
   "execution_count": null,
   "metadata": {},
   "outputs": [],
   "source": [
    "for col in cols:\n",
    "    for row in df[cols].index:\n",
    "        if df[col][row] == \"Null\":\n",
    "            df[col][row] = np.nan"
   ]
  },
  {
   "cell_type": "code",
   "execution_count": null,
   "metadata": {},
   "outputs": [],
   "source": [
    "exp_col = []\n",
    "pos_col = []\n",
    "for col in cols:\n",
    "    if \"exp\" in col:\n",
    "        exp_col.append(col)\n",
    "    else:\n",
    "        pos_col.append(col)"
   ]
  },
  {
   "cell_type": "code",
   "execution_count": null,
   "metadata": {},
   "outputs": [],
   "source": [
    "for col in exp_col:\n",
    "    for row in df[cols].index:\n",
    "        if df[col][row] == \"R\":\n",
    "            df[col][row] = 0"
   ]
  },
  {
   "cell_type": "code",
   "execution_count": null,
   "metadata": {},
   "outputs": [],
   "source": [
    "hold_out_df = df[df[\"game_date\"] == 2022]\n",
    "working_df = df[df[\"game_date\"] != 2022]\n",
    "working_df = working_df.drop(columns=[\"game_date\"])\n",
    "hold_out_df = hold_out_df.drop(columns=[\"game_date\"])"
   ]
  },
  {
   "cell_type": "code",
   "execution_count": null,
   "metadata": {},
   "outputs": [],
   "source": [
    "X = working_df.drop(columns=[\"pts\"])\n",
    "y = working_df[\"pts\"]\n",
    "X_train, X_test, y_train, y_test = train_test_split(X, y, random_state=42, test_size=.2)"
   ]
  },
  {
   "cell_type": "code",
   "execution_count": null,
   "metadata": {},
   "outputs": [],
   "source": [
    "for col in pos_col:\n",
    "    X_train[col+\" is null\"] = df[col].isna()\n",
    "    X_test[col+\" is null\"] = df[col].isna()\n"
   ]
  },
  {
   "cell_type": "code",
   "execution_count": null,
   "metadata": {},
   "outputs": [],
   "source": []
  },
  {
   "cell_type": "code",
   "execution_count": null,
   "metadata": {},
   "outputs": [],
   "source": []
  },
  {
   "cell_type": "code",
   "execution_count": null,
   "metadata": {},
   "outputs": [],
   "source": [
    "num_imp = SimpleImputer(strategy='mean')\n",
    "num_imp.fit(X_train)\n",
    "\n",
    "X_train_imp = num_imp.transform(X_train)\n",
    "X_test_imp = num_imp.transform(X_test)"
   ]
  },
  {
   "cell_type": "code",
   "execution_count": null,
   "metadata": {},
   "outputs": [],
   "source": []
  },
  {
   "cell_type": "code",
   "execution_count": null,
   "metadata": {},
   "outputs": [],
   "source": [
    "X_train_imp_df = pd.DataFrame(X_train_imp)\n",
    "X_test_imp_df = pd.DataFrame(X_test_imp)\n",
    "\n",
    "for col in X_train_imp_df.columns:\n",
    "    X_train_imp_df[col] = X_train_imp_df[col].astype(float)\n",
    "    X_test_imp_df[col] = X_test_imp_df[col].astype(float)"
   ]
  },
  {
   "cell_type": "code",
   "execution_count": null,
   "metadata": {},
   "outputs": [],
   "source": [
    "tree = DecisionTreeRegressor()\n",
    "tree.fit(X_train_imp_df, y_train)\n",
    "\n",
    "y_hat_train = tree.predict(X_train_imp_df) \n",
    "y_hat_test = tree.predict(X_test_imp_df) \n",
    "print(mean_squared_error(y_train, y_hat_train))\n",
    "print(mean_squared_error(y_test, y_hat_test))"
   ]
  },
  {
   "cell_type": "code",
   "execution_count": null,
   "metadata": {},
   "outputs": [],
   "source": [
    "tree = DecisionTreeRegressor()\n",
    "tree.fit(X_train_imp_df, y_train)\n",
    "\n",
    "y_hat_train = tree.predict(X_train_imp_df) \n",
    "y_hat_test = tree.predict(X_test_imp_df) \n",
    "print(mean_squared_error(y_train, y_hat_train))\n",
    "print(mean_squared_error(y_test, y_hat_test))"
   ]
  },
  {
   "cell_type": "code",
   "execution_count": null,
   "metadata": {},
   "outputs": [],
   "source": [
    "catch = {}\n",
    "w=.01\n",
    "w_list = []\n",
    "while w<=1:\n",
    "    w_list.append(w)\n",
    "    w+=.01\n",
    "x_list = range(1,101)\n",
    "\n",
    "for z in x_list:\n",
    "    for y in w_list:\n",
    "        for x in x_list:\n",
    "            xgb_model = xgb.XGBRegressor(random_state=42, learning_rate=y, max_depth=x, n_estimators=z,)\n",
    "            xgb_model.fit(X_train_imp_df, y_train)\n",
    "            y_hat_train = xgb_model.predict(X_train_imp_df) \n",
    "            y_hat_test = xgb_model.predict(X_test_imp_df) \n",
    "#             catch[\"x\"+\"y\"+\"z\"+\"train\"] = mean_squared_error(y_train, y_hat_train)\n",
    "            catch[str(x)+\"_\"+str(y)+\"_\"+str(z)] = mean_squared_error(y_test, y_hat_test)\n",
    "            \n",
    "catch_df = pd.DataFrame(pd.DataFrame(catch, index=catch.values()).reset_index()[\"index\"])"
   ]
  },
  {
   "cell_type": "code",
   "execution_count": null,
   "metadata": {},
   "outputs": [],
   "source": [
    "catch_df"
   ]
  },
  {
   "cell_type": "code",
   "execution_count": null,
   "metadata": {},
   "outputs": [],
   "source": []
  }
 ],
 "metadata": {
  "kernelspec": {
   "display_name": "Python (learn-env)",
   "language": "python",
   "name": "learn-env"
  },
  "language_info": {
   "codemirror_mode": {
    "name": "ipython",
    "version": 3
   },
   "file_extension": ".py",
   "mimetype": "text/x-python",
   "name": "python",
   "nbconvert_exporter": "python",
   "pygments_lexer": "ipython3",
   "version": "3.8.5"
  }
 },
 "nbformat": 4,
 "nbformat_minor": 4
}
