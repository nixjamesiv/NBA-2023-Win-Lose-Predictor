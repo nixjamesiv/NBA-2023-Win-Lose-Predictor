{
 "cells": [
  {
   "cell_type": "code",
   "execution_count": 1,
   "metadata": {},
   "outputs": [],
   "source": [
    "import pandas as pd\n",
    "from sklearn.tree import DecisionTreeRegressor\n",
    "import xgboost as xgb\n",
    "import numpy as np\n",
    "from sklearn.metrics import mean_squared_error, explained_variance_score, max_error\n",
    "from sklearn.model_selection import train_test_split\n",
    "from sklearn.impute import SimpleImputer\n",
    "from sklearn.model_selection import GridSearchCV\n",
    "import warnings\n",
    "warnings.filterwarnings(action=\"ignore\")"
   ]
  },
  {
   "cell_type": "code",
   "execution_count": 2,
   "metadata": {},
   "outputs": [],
   "source": [
    "df = pd.read_csv(\"../../Data/win_loss_completed_df.csv\")"
   ]
  },
  {
   "cell_type": "code",
   "execution_count": 3,
   "metadata": {},
   "outputs": [],
   "source": [
    "cols = list(df.drop(columns=[\"pts\", \"team1\", \"team2\"]).columns)\n",
    "for col in cols:\n",
    "    for row in df[cols].index:\n",
    "        if df[col][row] == \"Null\":\n",
    "            df[col][row] = np.nan\n",
    "exp_col = []\n",
    "pos_col = []\n",
    "for col in cols:\n",
    "    if \"exp\" in col:\n",
    "        exp_col.append(col)\n",
    "    else:\n",
    "        pos_col.append(col)\n",
    "for col in exp_col:\n",
    "    for row in df[cols].index:\n",
    "        if df[col][row] == \"R\":\n",
    "            df[col][row] = 0\n",
    "hold_out_df = df[df[\"game_date\"] == 2022]\n",
    "working_df = df[df[\"game_date\"] != 2022]\n",
    "working_df = working_df.drop(columns=[\"game_date\"])\n",
    "# hold_out_df = hold_out_df.drop(columns=[\"game_date\"])\n",
    "X = working_df.drop(columns=[\"pts\"])\n",
    "y = working_df[\"pts\"]\n",
    "X_train, X_test, y_train, y_test = train_test_split(X, y, random_state=42, test_size=.2)\n",
    "for col in pos_col:\n",
    "    X_train[col+\" is null\"] = df[col].isna()\n",
    "    X_test[col+\" is null\"] = df[col].isna()\n",
    "num_imp = SimpleImputer(strategy='mean')\n",
    "num_imp.fit(X_train.drop(columns=[\"team1\", \"team2\"]))\n",
    "\n",
    "X_train_imp = num_imp.transform(X_train.drop(columns=[\"team1\", \"team2\"]))\n",
    "X_test_imp = num_imp.transform(X_test.drop(columns=[\"team1\", \"team2\"]))\n",
    "X_train_imp_df = pd.DataFrame(X_train_imp)\n",
    "X_test_imp_df = pd.DataFrame(X_test_imp)\n",
    "\n",
    "for col in X_train_imp_df.columns:\n",
    "    X_train_imp_df[col] = X_train_imp_df[col].astype(float)\n",
    "    X_test_imp_df[col] = X_test_imp_df[col].astype(float)\n"
   ]
  },
  {
   "cell_type": "code",
   "execution_count": 23,
   "metadata": {},
   "outputs": [
    {
     "name": "stdout",
     "output_type": "stream",
     "text": [
      "Test set: mean squared error 11.523063236672044 max error 38.13196563720703 Explained variance 0.2816532774455486\n"
     ]
    }
   ],
   "source": [
    "param_grid = {\n",
    "    \"max_depth\": [5],\n",
    "    \"learning_rate\" : [.1],\n",
    "    \"num_parallel_tree\" : [15]\n",
    "}\n",
    "xgb_regres = xgb.XGBRegressor()\n",
    "\n",
    "gs1 = GridSearchCV(xgb_regres, param_grid, cv=5, scoring='neg_mean_absolute_error')\n",
    "gs1.fit(X_train_imp_df, y_train)\n",
    "\n",
    "best_estimator1 = gs1.best_estimator_\n",
    "y_hat_test1 = best_estimator1.predict(X_test_imp_df)\n",
    "print(\"Test set: mean squared error\", str(mean_squared_error(y_test, y_hat_test1, squared=False)), \"max error\", str(max_error(y_test, y_hat_test1)), \"Explained variance\", str(explained_variance_score(y_test, y_hat_test1)))"
   ]
  },
  {
   "cell_type": "code",
   "execution_count": 24,
   "metadata": {},
   "outputs": [
    {
     "data": {
      "text/html": [
       "<div>\n",
       "<style scoped>\n",
       "    .dataframe tbody tr th:only-of-type {\n",
       "        vertical-align: middle;\n",
       "    }\n",
       "\n",
       "    .dataframe tbody tr th {\n",
       "        vertical-align: top;\n",
       "    }\n",
       "\n",
       "    .dataframe thead th {\n",
       "        text-align: right;\n",
       "    }\n",
       "</style>\n",
       "<table border=\"1\" class=\"dataframe\">\n",
       "  <thead>\n",
       "    <tr style=\"text-align: right;\">\n",
       "      <th></th>\n",
       "      <th>game_date</th>\n",
       "      <th>pts</th>\n",
       "      <th>team1-1-power-forward</th>\n",
       "      <th>team1-1-point-guard</th>\n",
       "      <th>team1-1-shooting-guard</th>\n",
       "      <th>team1-1-small-forward</th>\n",
       "      <th>team1-1-center</th>\n",
       "      <th>team1-1-power-forward-exp</th>\n",
       "      <th>team1-1-point-guard-exp</th>\n",
       "      <th>team1-1-shooting-guard-exp</th>\n",
       "      <th>...</th>\n",
       "      <th>team2-2-shooting-guard</th>\n",
       "      <th>team2-2-small-forward</th>\n",
       "      <th>team2-2-center</th>\n",
       "      <th>team2-2-power-forward-exp</th>\n",
       "      <th>team2-2-point-guard-exp</th>\n",
       "      <th>team2-2-shooting-guard-exp</th>\n",
       "      <th>team2-2-small-forward-exp</th>\n",
       "      <th>team2-2-center-exp</th>\n",
       "      <th>team2</th>\n",
       "      <th>team1</th>\n",
       "    </tr>\n",
       "  </thead>\n",
       "  <tbody>\n",
       "    <tr>\n",
       "      <th>0</th>\n",
       "      <td>2022</td>\n",
       "      <td>103</td>\n",
       "      <td>68</td>\n",
       "      <td>5</td>\n",
       "      <td>157</td>\n",
       "      <td>73</td>\n",
       "      <td>57</td>\n",
       "      <td>6</td>\n",
       "      <td>12</td>\n",
       "      <td>3</td>\n",
       "      <td>...</td>\n",
       "      <td>151</td>\n",
       "      <td>77</td>\n",
       "      <td>25</td>\n",
       "      <td>1</td>\n",
       "      <td>7</td>\n",
       "      <td>17</td>\n",
       "      <td>1</td>\n",
       "      <td>14</td>\n",
       "      <td>BOS</td>\n",
       "      <td>GSW</td>\n",
       "    </tr>\n",
       "    <tr>\n",
       "      <th>1</th>\n",
       "      <td>2022</td>\n",
       "      <td>90</td>\n",
       "      <td>105</td>\n",
       "      <td>63</td>\n",
       "      <td>5</td>\n",
       "      <td>87</td>\n",
       "      <td>71</td>\n",
       "      <td>2</td>\n",
       "      <td>1</td>\n",
       "      <td>5</td>\n",
       "      <td>...</td>\n",
       "      <td>150</td>\n",
       "      <td>13</td>\n",
       "      <td>84</td>\n",
       "      <td>9</td>\n",
       "      <td>17</td>\n",
       "      <td>0</td>\n",
       "      <td>7</td>\n",
       "      <td>17</td>\n",
       "      <td>GSW</td>\n",
       "      <td>BOS</td>\n",
       "    </tr>\n",
       "    <tr>\n",
       "      <th>2</th>\n",
       "      <td>2022</td>\n",
       "      <td>104</td>\n",
       "      <td>68</td>\n",
       "      <td>5</td>\n",
       "      <td>157</td>\n",
       "      <td>73</td>\n",
       "      <td>57</td>\n",
       "      <td>6</td>\n",
       "      <td>12</td>\n",
       "      <td>3</td>\n",
       "      <td>...</td>\n",
       "      <td>151</td>\n",
       "      <td>77</td>\n",
       "      <td>25</td>\n",
       "      <td>1</td>\n",
       "      <td>7</td>\n",
       "      <td>17</td>\n",
       "      <td>1</td>\n",
       "      <td>14</td>\n",
       "      <td>BOS</td>\n",
       "      <td>GSW</td>\n",
       "    </tr>\n",
       "    <tr>\n",
       "      <th>3</th>\n",
       "      <td>2022</td>\n",
       "      <td>94</td>\n",
       "      <td>105</td>\n",
       "      <td>63</td>\n",
       "      <td>5</td>\n",
       "      <td>87</td>\n",
       "      <td>71</td>\n",
       "      <td>2</td>\n",
       "      <td>1</td>\n",
       "      <td>5</td>\n",
       "      <td>...</td>\n",
       "      <td>150</td>\n",
       "      <td>13</td>\n",
       "      <td>84</td>\n",
       "      <td>9</td>\n",
       "      <td>17</td>\n",
       "      <td>0</td>\n",
       "      <td>7</td>\n",
       "      <td>17</td>\n",
       "      <td>GSW</td>\n",
       "      <td>BOS</td>\n",
       "    </tr>\n",
       "    <tr>\n",
       "      <th>4</th>\n",
       "      <td>2022</td>\n",
       "      <td>107</td>\n",
       "      <td>68</td>\n",
       "      <td>5</td>\n",
       "      <td>157</td>\n",
       "      <td>73</td>\n",
       "      <td>57</td>\n",
       "      <td>6</td>\n",
       "      <td>12</td>\n",
       "      <td>3</td>\n",
       "      <td>...</td>\n",
       "      <td>151</td>\n",
       "      <td>77</td>\n",
       "      <td>25</td>\n",
       "      <td>1</td>\n",
       "      <td>7</td>\n",
       "      <td>17</td>\n",
       "      <td>1</td>\n",
       "      <td>14</td>\n",
       "      <td>BOS</td>\n",
       "      <td>GSW</td>\n",
       "    </tr>\n",
       "    <tr>\n",
       "      <th>...</th>\n",
       "      <td>...</td>\n",
       "      <td>...</td>\n",
       "      <td>...</td>\n",
       "      <td>...</td>\n",
       "      <td>...</td>\n",
       "      <td>...</td>\n",
       "      <td>...</td>\n",
       "      <td>...</td>\n",
       "      <td>...</td>\n",
       "      <td>...</td>\n",
       "      <td>...</td>\n",
       "      <td>...</td>\n",
       "      <td>...</td>\n",
       "      <td>...</td>\n",
       "      <td>...</td>\n",
       "      <td>...</td>\n",
       "      <td>...</td>\n",
       "      <td>...</td>\n",
       "      <td>...</td>\n",
       "      <td>...</td>\n",
       "      <td>...</td>\n",
       "    </tr>\n",
       "    <tr>\n",
       "      <th>169</th>\n",
       "      <td>2022</td>\n",
       "      <td>99</td>\n",
       "      <td>124</td>\n",
       "      <td>21</td>\n",
       "      <td>49</td>\n",
       "      <td>47</td>\n",
       "      <td>66</td>\n",
       "      <td>1</td>\n",
       "      <td>7</td>\n",
       "      <td>2</td>\n",
       "      <td>...</td>\n",
       "      <td>147</td>\n",
       "      <td>43</td>\n",
       "      <td>82</td>\n",
       "      <td>1</td>\n",
       "      <td>8</td>\n",
       "      <td>3</td>\n",
       "      <td>8</td>\n",
       "      <td>6</td>\n",
       "      <td>DAL</td>\n",
       "      <td>UTA</td>\n",
       "    </tr>\n",
       "    <tr>\n",
       "      <th>170</th>\n",
       "      <td>2022</td>\n",
       "      <td>130</td>\n",
       "      <td>89</td>\n",
       "      <td>48</td>\n",
       "      <td>35</td>\n",
       "      <td>6</td>\n",
       "      <td>60</td>\n",
       "      <td>1</td>\n",
       "      <td>9</td>\n",
       "      <td>5</td>\n",
       "      <td>...</td>\n",
       "      <td>133</td>\n",
       "      <td>11</td>\n",
       "      <td>22</td>\n",
       "      <td>0</td>\n",
       "      <td>2</td>\n",
       "      <td>2</td>\n",
       "      <td>4</td>\n",
       "      <td>2</td>\n",
       "      <td>MEM</td>\n",
       "      <td>MIN</td>\n",
       "    </tr>\n",
       "    <tr>\n",
       "      <th>171</th>\n",
       "      <td>2022</td>\n",
       "      <td>117</td>\n",
       "      <td>82</td>\n",
       "      <td>50</td>\n",
       "      <td>16</td>\n",
       "      <td>50</td>\n",
       "      <td>49</td>\n",
       "      <td>0</td>\n",
       "      <td>6</td>\n",
       "      <td>1</td>\n",
       "      <td>...</td>\n",
       "      <td>163</td>\n",
       "      <td>89</td>\n",
       "      <td>38</td>\n",
       "      <td>1</td>\n",
       "      <td>2</td>\n",
       "      <td>0</td>\n",
       "      <td>5</td>\n",
       "      <td>2</td>\n",
       "      <td>MIN</td>\n",
       "      <td>MEM</td>\n",
       "    </tr>\n",
       "    <tr>\n",
       "      <th>172</th>\n",
       "      <td>2022</td>\n",
       "      <td>123</td>\n",
       "      <td>68</td>\n",
       "      <td>5</td>\n",
       "      <td>157</td>\n",
       "      <td>73</td>\n",
       "      <td>57</td>\n",
       "      <td>6</td>\n",
       "      <td>12</td>\n",
       "      <td>3</td>\n",
       "      <td>...</td>\n",
       "      <td>119</td>\n",
       "      <td>62</td>\n",
       "      <td>32</td>\n",
       "      <td>7</td>\n",
       "      <td>1</td>\n",
       "      <td>2</td>\n",
       "      <td>7</td>\n",
       "      <td>10</td>\n",
       "      <td>DEN</td>\n",
       "      <td>GSW</td>\n",
       "    </tr>\n",
       "    <tr>\n",
       "      <th>173</th>\n",
       "      <td>2022</td>\n",
       "      <td>107</td>\n",
       "      <td>127</td>\n",
       "      <td>72</td>\n",
       "      <td>63</td>\n",
       "      <td>24</td>\n",
       "      <td>80</td>\n",
       "      <td>0</td>\n",
       "      <td>1</td>\n",
       "      <td>5</td>\n",
       "      <td>...</td>\n",
       "      <td>150</td>\n",
       "      <td>13</td>\n",
       "      <td>84</td>\n",
       "      <td>9</td>\n",
       "      <td>17</td>\n",
       "      <td>0</td>\n",
       "      <td>7</td>\n",
       "      <td>17</td>\n",
       "      <td>GSW</td>\n",
       "      <td>DEN</td>\n",
       "    </tr>\n",
       "  </tbody>\n",
       "</table>\n",
       "<p>174 rows × 44 columns</p>\n",
       "</div>"
      ],
      "text/plain": [
       "     game_date  pts  team1-1-power-forward team1-1-point-guard  \\\n",
       "0         2022  103                     68                   5   \n",
       "1         2022   90                    105                  63   \n",
       "2         2022  104                     68                   5   \n",
       "3         2022   94                    105                  63   \n",
       "4         2022  107                     68                   5   \n",
       "..         ...  ...                    ...                 ...   \n",
       "169       2022   99                    124                  21   \n",
       "170       2022  130                     89                  48   \n",
       "171       2022  117                     82                  50   \n",
       "172       2022  123                     68                   5   \n",
       "173       2022  107                    127                  72   \n",
       "\n",
       "    team1-1-shooting-guard team1-1-small-forward team1-1-center  \\\n",
       "0                      157                    73             57   \n",
       "1                        5                    87             71   \n",
       "2                      157                    73             57   \n",
       "3                        5                    87             71   \n",
       "4                      157                    73             57   \n",
       "..                     ...                   ...            ...   \n",
       "169                     49                    47             66   \n",
       "170                     35                     6             60   \n",
       "171                     16                    50             49   \n",
       "172                    157                    73             57   \n",
       "173                     63                    24             80   \n",
       "\n",
       "    team1-1-power-forward-exp team1-1-point-guard-exp  \\\n",
       "0                           6                      12   \n",
       "1                           2                       1   \n",
       "2                           6                      12   \n",
       "3                           2                       1   \n",
       "4                           6                      12   \n",
       "..                        ...                     ...   \n",
       "169                         1                       7   \n",
       "170                         1                       9   \n",
       "171                         0                       6   \n",
       "172                         6                      12   \n",
       "173                         0                       1   \n",
       "\n",
       "    team1-1-shooting-guard-exp  ... team2-2-shooting-guard  \\\n",
       "0                            3  ...                    151   \n",
       "1                            5  ...                    150   \n",
       "2                            3  ...                    151   \n",
       "3                            5  ...                    150   \n",
       "4                            3  ...                    151   \n",
       "..                         ...  ...                    ...   \n",
       "169                          2  ...                    147   \n",
       "170                          5  ...                    133   \n",
       "171                          1  ...                    163   \n",
       "172                          3  ...                    119   \n",
       "173                          5  ...                    150   \n",
       "\n",
       "    team2-2-small-forward team2-2-center team2-2-power-forward-exp  \\\n",
       "0                      77             25                         1   \n",
       "1                      13             84                         9   \n",
       "2                      77             25                         1   \n",
       "3                      13             84                         9   \n",
       "4                      77             25                         1   \n",
       "..                    ...            ...                       ...   \n",
       "169                    43             82                         1   \n",
       "170                    11             22                         0   \n",
       "171                    89             38                         1   \n",
       "172                    62             32                         7   \n",
       "173                    13             84                         9   \n",
       "\n",
       "    team2-2-point-guard-exp team2-2-shooting-guard-exp  \\\n",
       "0                         7                         17   \n",
       "1                        17                          0   \n",
       "2                         7                         17   \n",
       "3                        17                          0   \n",
       "4                         7                         17   \n",
       "..                      ...                        ...   \n",
       "169                       8                          3   \n",
       "170                       2                          2   \n",
       "171                       2                          0   \n",
       "172                       1                          2   \n",
       "173                      17                          0   \n",
       "\n",
       "    team2-2-small-forward-exp team2-2-center-exp team2 team1  \n",
       "0                           1                 14   BOS   GSW  \n",
       "1                           7                 17   GSW   BOS  \n",
       "2                           1                 14   BOS   GSW  \n",
       "3                           7                 17   GSW   BOS  \n",
       "4                           1                 14   BOS   GSW  \n",
       "..                        ...                ...   ...   ...  \n",
       "169                         8                  6   DAL   UTA  \n",
       "170                         4                  2   MEM   MIN  \n",
       "171                         5                  2   MIN   MEM  \n",
       "172                         7                 10   DEN   GSW  \n",
       "173                         7                 17   GSW   DEN  \n",
       "\n",
       "[174 rows x 44 columns]"
      ]
     },
     "execution_count": 24,
     "metadata": {},
     "output_type": "execute_result"
    }
   ],
   "source": [
    "hold_out_df"
   ]
  },
  {
   "cell_type": "code",
   "execution_count": 25,
   "metadata": {},
   "outputs": [
    {
     "data": {
      "text/plain": [
       "['game_date',\n",
       " 'pts',\n",
       " 'team1-1-power-forward',\n",
       " 'team1-1-point-guard',\n",
       " 'team1-1-shooting-guard',\n",
       " 'team1-1-small-forward',\n",
       " 'team1-1-center',\n",
       " 'team1-1-power-forward-exp',\n",
       " 'team1-1-point-guard-exp',\n",
       " 'team1-1-shooting-guard-exp',\n",
       " 'team1-1-small-forward-exp',\n",
       " 'team1-1-center-exp',\n",
       " 'team1-2-power-forward',\n",
       " 'team1-2-point-guard',\n",
       " 'team1-2-shooting-guard',\n",
       " 'team1-2-small-forward',\n",
       " 'team1-2-center',\n",
       " 'team1-2-power-forward-exp',\n",
       " 'team1-2-point-guard-exp',\n",
       " 'team1-2-shooting-guard-exp',\n",
       " 'team1-2-small-forward-exp',\n",
       " 'team1-2-center-exp',\n",
       " 'team2-1-power-forward',\n",
       " 'team2-1-point-guard',\n",
       " 'team2-1-shooting-guard',\n",
       " 'team2-1-small-forward',\n",
       " 'team2-1-center',\n",
       " 'team2-1-power-forward-exp',\n",
       " 'team2-1-point-guard-exp',\n",
       " 'team2-1-shooting-guard-exp',\n",
       " 'team2-1-small-forward-exp',\n",
       " 'team2-1-center-exp',\n",
       " 'team2-2-power-forward',\n",
       " 'team2-2-point-guard',\n",
       " 'team2-2-shooting-guard',\n",
       " 'team2-2-small-forward',\n",
       " 'team2-2-center',\n",
       " 'team2-2-power-forward-exp',\n",
       " 'team2-2-point-guard-exp',\n",
       " 'team2-2-shooting-guard-exp',\n",
       " 'team2-2-small-forward-exp',\n",
       " 'team2-2-center-exp',\n",
       " 'team2',\n",
       " 'team1']"
      ]
     },
     "execution_count": 25,
     "metadata": {},
     "output_type": "execute_result"
    }
   ],
   "source": [
    "hold_out_df.columns.tolist()"
   ]
  },
  {
   "cell_type": "code",
   "execution_count": 26,
   "metadata": {},
   "outputs": [],
   "source": [
    "def TeamMatchUpGuesser(estimator, holdout, team1, team2):\n",
    "    df = holdout[((holdout[\"team1\"] == team1) & (holdout[\"team2\"] == team2)) | ((holdout[\"team2\"] == team1) & (holdout[\"team1\"] == team2))]\n",
    "    pred_input_df = df.drop(columns=[\"pts\",\"team2\",\"team1\",\"game_date\"])\n",
    "    names_df = df.drop(columns=pred_input_df.columns.tolist())\n",
    "#     print(pred_input_df.columns)\n",
    "    for col in pos_col:\n",
    "        pred_input_df[col+\" is null\"] = df[col].isna()\n",
    "    X_imp = num_imp.transform(pred_input_df)\n",
    "    X_imp_df = pd.DataFrame(X_imp)\n",
    "\n",
    "    for col in X_train_imp_df.columns:\n",
    "        X_imp_df[col] = X_imp_df[col].astype(float)\n",
    "    \n",
    "    \n",
    "    y_hat = list(estimator.predict(X_imp_df))\n",
    "    names_df[\"preds\"] = y_hat\n",
    "    print(names_df.head(2))"
   ]
  },
  {
   "cell_type": "code",
   "execution_count": 31,
   "metadata": {},
   "outputs": [
    {
     "name": "stdout",
     "output_type": "stream",
     "text": [
      "    game_date  pts team2 team1      preds\n",
      "92       2022  115   NOP   PHX  96.834679\n",
      "93       2022  109   PHX   NOP  98.242401\n"
     ]
    }
   ],
   "source": [
    "TeamMatchUpGuesser(best_estimator1, hold_out_df, \"PHX\", \"NOP\")"
   ]
  },
  {
   "cell_type": "code",
   "execution_count": 32,
   "metadata": {},
   "outputs": [
    {
     "name": "stdout",
     "output_type": "stream",
     "text": [
      "    game_date  pts team2 team1       preds\n",
      "90       2022   96   DAL   UTA  105.654686\n",
      "91       2022   98   UTA   DAL  104.502266\n"
     ]
    }
   ],
   "source": [
    "TeamMatchUpGuesser(best_estimator1, hold_out_df, \"DAL\", \"UTA\")"
   ]
  },
  {
   "cell_type": "code",
   "execution_count": 34,
   "metadata": {},
   "outputs": [
    {
     "name": "stdout",
     "output_type": "stream",
     "text": [
      "    game_date  pts team2 team1       preds\n",
      "96       2022   98   GSW   DEN  102.212250\n",
      "97       2022  102   DEN   GSW  110.154427\n"
     ]
    }
   ],
   "source": [
    "TeamMatchUpGuesser(best_estimator1, hold_out_df, \"GSW\", \"DEN\")"
   ]
  },
  {
   "cell_type": "code",
   "execution_count": 35,
   "metadata": {},
   "outputs": [
    {
     "name": "stdout",
     "output_type": "stream",
     "text": [
      "    game_date  pts team2 team1       preds\n",
      "88       2022  114   MIN   MEM  110.054733\n",
      "89       2022  106   MEM   MIN  111.541801\n"
     ]
    }
   ],
   "source": [
    "TeamMatchUpGuesser(best_estimator1, hold_out_df, \"MEM\", \"MIN\")"
   ]
  },
  {
   "cell_type": "code",
   "execution_count": 37,
   "metadata": {},
   "outputs": [
    {
     "name": "stdout",
     "output_type": "stream",
     "text": [
      "    game_date  pts team2 team1       preds\n",
      "36       2022  123   PHX   DAL   99.704498\n",
      "37       2022   90   DAL   PHX  101.441490\n"
     ]
    }
   ],
   "source": [
    "TeamMatchUpGuesser(best_estimator1, hold_out_df, \"PHX\", \"DAL\")"
   ]
  },
  {
   "cell_type": "code",
   "execution_count": 38,
   "metadata": {},
   "outputs": [
    {
     "name": "stdout",
     "output_type": "stream",
     "text": [
      "    game_date  pts team2 team1       preds\n",
      "40       2022   96   GSW   MEM  105.595879\n",
      "41       2022  110   MEM   GSW  115.032928\n"
     ]
    }
   ],
   "source": [
    "TeamMatchUpGuesser(best_estimator1, hold_out_df, \"GSW\", \"MEM\")"
   ]
  },
  {
   "cell_type": "code",
   "execution_count": 39,
   "metadata": {},
   "outputs": [
    {
     "name": "stdout",
     "output_type": "stream",
     "text": [
      "    game_date  pts team2 team1       preds\n",
      "16       2022  110   GSW   DAL   99.404427\n",
      "17       2022  120   DAL   GSW  112.799065\n"
     ]
    }
   ],
   "source": [
    "TeamMatchUpGuesser(best_estimator1, hold_out_df, \"DAL\", \"GSW\")"
   ]
  },
  {
   "cell_type": "code",
   "execution_count": 40,
   "metadata": {},
   "outputs": [
    {
     "name": "stdout",
     "output_type": "stream",
     "text": [
      "   game_date  pts team2 team1       preds\n",
      "0       2022  103   BOS   GSW  113.530663\n",
      "1       2022   90   GSW   BOS  104.345093\n"
     ]
    }
   ],
   "source": [
    "TeamMatchUpGuesser(best_estimator1, hold_out_df, \"BOS\", \"GSW\")"
   ]
  },
  {
   "cell_type": "code",
   "execution_count": 41,
   "metadata": {},
   "outputs": [
    {
     "name": "stdout",
     "output_type": "stream",
     "text": [
      "    game_date  pts team2 team1       preds\n",
      "12       2022  100   MIA   BOS  103.773232\n",
      "13       2022   96   BOS   MIA  108.654068\n"
     ]
    }
   ],
   "source": [
    "TeamMatchUpGuesser(best_estimator1, hold_out_df, \"BOS\", \"MIA\")"
   ]
  },
  {
   "cell_type": "code",
   "execution_count": 42,
   "metadata": {},
   "outputs": [
    {
     "name": "stdout",
     "output_type": "stream",
     "text": [
      "    game_date  pts team2 team1       preds\n",
      "46       2022   90   MIA   PHI  105.211060\n",
      "47       2022   99   PHI   MIA  101.445618\n"
     ]
    }
   ],
   "source": [
    "TeamMatchUpGuesser(best_estimator1, hold_out_df, \"PHI\", \"MIA\")"
   ]
  },
  {
   "cell_type": "code",
   "execution_count": 43,
   "metadata": {},
   "outputs": [
    {
     "name": "stdout",
     "output_type": "stream",
     "text": [
      "    game_date  pts team2 team1       preds\n",
      "38       2022  109   MIL   BOS   97.702866\n",
      "39       2022   81   BOS   MIL  111.522240\n"
     ]
    }
   ],
   "source": [
    "TeamMatchUpGuesser(best_estimator1, hold_out_df, \"BOS\", \"MIL\")"
   ]
  },
  {
   "cell_type": "code",
   "execution_count": 44,
   "metadata": {},
   "outputs": [
    {
     "name": "stdout",
     "output_type": "stream",
     "text": [
      "     game_date  pts team2 team1       preds\n",
      "110       2022  116   BKN   BOS   98.102722\n",
      "111       2022  112   BOS   BKN  107.422798\n"
     ]
    }
   ],
   "source": [
    "TeamMatchUpGuesser(best_estimator1, hold_out_df, \"BOS\", \"BKN\")"
   ]
  },
  {
   "cell_type": "code",
   "execution_count": 45,
   "metadata": {},
   "outputs": [
    {
     "name": "stdout",
     "output_type": "stream",
     "text": [
      "    game_date  pts team2 team1       preds\n",
      "98       2022  116   CHI   MIL  100.612846\n",
      "99       2022  100   MIL   CHI   95.668053\n"
     ]
    }
   ],
   "source": [
    "TeamMatchUpGuesser(best_estimator1, hold_out_df, \"CHI\", \"MIL\")"
   ]
  },
  {
   "cell_type": "code",
   "execution_count": 46,
   "metadata": {},
   "outputs": [
    {
     "name": "stdout",
     "output_type": "stream",
     "text": [
      "     game_date  pts team2 team1       preds\n",
      "104       2022   94   MIA   ATL  102.437065\n",
      "105       2022   97   ATL   MIA  109.888428\n"
     ]
    }
   ],
   "source": [
    "TeamMatchUpGuesser(best_estimator1, hold_out_df, \"ATL\", \"MIA\")"
   ]
  },
  {
   "cell_type": "code",
   "execution_count": 47,
   "metadata": {},
   "outputs": [
    {
     "name": "stdout",
     "output_type": "stream",
     "text": [
      "    game_date  pts team2 team1       preds\n",
      "94       2022  132   TOR   PHI  104.307091\n",
      "95       2022   97   PHI   TOR  104.712906\n"
     ]
    }
   ],
   "source": [
    "TeamMatchUpGuesser(best_estimator1, hold_out_df, \"PHI\", \"TOR\")"
   ]
  },
  {
   "cell_type": "code",
   "execution_count": null,
   "metadata": {},
   "outputs": [],
   "source": []
  }
 ],
 "metadata": {
  "kernelspec": {
   "display_name": "Python (learn-env)",
   "language": "python",
   "name": "learn-env"
  },
  "language_info": {
   "codemirror_mode": {
    "name": "ipython",
    "version": 3
   },
   "file_extension": ".py",
   "mimetype": "text/x-python",
   "name": "python",
   "nbconvert_exporter": "python",
   "pygments_lexer": "ipython3",
   "version": "3.8.5"
  }
 },
 "nbformat": 4,
 "nbformat_minor": 4
}
