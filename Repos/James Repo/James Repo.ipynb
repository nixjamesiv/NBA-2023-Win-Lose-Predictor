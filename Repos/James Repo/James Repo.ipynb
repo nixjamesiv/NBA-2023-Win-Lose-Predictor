{
 "cells": [
  {
   "cell_type": "code",
   "execution_count": 1,
   "metadata": {},
   "outputs": [],
   "source": [
    "import pandas as pd\n",
    "import seaborn as sns\n",
    "import numpy as np\n",
    "import matplotlib.pyplot as plt\n",
    "from sklearn.tree import DecisionTreeClassifier\n",
    "from sklearn.model_selection import train_test_split, cross_val_score\n",
    "from sklearn.metrics import mean_squared_error\n",
    "from sklearn.impute import SimpleImputer\n",
    "from sklearn.linear_model import LinearRegression\n",
    "from sklearn.tree import DecisionTreeRegressor\n",
    "from sklearn.neighbors import KNeighborsRegressor\n",
    "from sklearn.ensemble import VotingClassifier\n",
    "from sklearn.ensemble import BaggingClassifier\n",
    "from sklearn.ensemble import RandomForestClassifier\n",
    "from sklearn.ensemble import ExtraTreesClassifier\n",
    "from sklearn.pipeline import Pipeline\n",
    "from sklearn.metrics import mean_squared_error\n",
    "from sklearn.preprocessing import StandardScaler, OneHotEncoder, MinMaxScaler\n",
    "from sklearn.compose import ColumnTransformer\n",
    "from sklearn.linear_model import LinearRegression\n",
    "from sklearn.neighbors import KNeighborsRegressor\n",
    "from sklearn.ensemble import StackingRegressor\n",
    "from sklearn.ensemble import AdaBoostClassifier\n",
    "from sklearn.model_selection import GridSearchCV\n",
    "from sklearn.naive_bayes import GaussianNB, MultinomialNB, ComplementNB\n",
    "import xgboost as xgb"
   ]
  },
  {
   "cell_type": "code",
   "execution_count": 2,
   "metadata": {},
   "outputs": [],
   "source": [
    "df = pd.read_csv(\"../../Data/win_loss_completed_df.csv\")"
   ]
  },
  {
   "cell_type": "code",
   "execution_count": 3,
   "metadata": {},
   "outputs": [
    {
     "data": {
      "text/html": [
       "<div>\n",
       "<style scoped>\n",
       "    .dataframe tbody tr th:only-of-type {\n",
       "        vertical-align: middle;\n",
       "    }\n",
       "\n",
       "    .dataframe tbody tr th {\n",
       "        vertical-align: top;\n",
       "    }\n",
       "\n",
       "    .dataframe thead th {\n",
       "        text-align: right;\n",
       "    }\n",
       "</style>\n",
       "<table border=\"1\" class=\"dataframe\">\n",
       "  <thead>\n",
       "    <tr style=\"text-align: right;\">\n",
       "      <th></th>\n",
       "      <th>game_date</th>\n",
       "      <th>pts</th>\n",
       "      <th>team1-1-power-forward</th>\n",
       "      <th>team1-1-point-guard</th>\n",
       "      <th>team1-1-shooting-guard</th>\n",
       "      <th>team1-1-small-forward</th>\n",
       "      <th>team1-1-center</th>\n",
       "      <th>team1-1-power-forward-exp</th>\n",
       "      <th>team1-1-point-guard-exp</th>\n",
       "      <th>team1-1-shooting-guard-exp</th>\n",
       "      <th>...</th>\n",
       "      <th>team2-2-shooting-guard</th>\n",
       "      <th>team2-2-small-forward</th>\n",
       "      <th>team2-2-center</th>\n",
       "      <th>team2-2-power-forward-exp</th>\n",
       "      <th>team2-2-point-guard-exp</th>\n",
       "      <th>team2-2-shooting-guard-exp</th>\n",
       "      <th>team2-2-small-forward-exp</th>\n",
       "      <th>team2-2-center-exp</th>\n",
       "      <th>team2</th>\n",
       "      <th>team1</th>\n",
       "    </tr>\n",
       "  </thead>\n",
       "  <tbody>\n",
       "    <tr>\n",
       "      <th>0</th>\n",
       "      <td>2022</td>\n",
       "      <td>103</td>\n",
       "      <td>68</td>\n",
       "      <td>5</td>\n",
       "      <td>157</td>\n",
       "      <td>73</td>\n",
       "      <td>57</td>\n",
       "      <td>6</td>\n",
       "      <td>12</td>\n",
       "      <td>3</td>\n",
       "      <td>...</td>\n",
       "      <td>151</td>\n",
       "      <td>77</td>\n",
       "      <td>25</td>\n",
       "      <td>1</td>\n",
       "      <td>7</td>\n",
       "      <td>17</td>\n",
       "      <td>1</td>\n",
       "      <td>14</td>\n",
       "      <td>BOS</td>\n",
       "      <td>GSW</td>\n",
       "    </tr>\n",
       "    <tr>\n",
       "      <th>1</th>\n",
       "      <td>2022</td>\n",
       "      <td>90</td>\n",
       "      <td>105</td>\n",
       "      <td>63</td>\n",
       "      <td>5</td>\n",
       "      <td>87</td>\n",
       "      <td>71</td>\n",
       "      <td>2</td>\n",
       "      <td>1</td>\n",
       "      <td>5</td>\n",
       "      <td>...</td>\n",
       "      <td>150</td>\n",
       "      <td>13</td>\n",
       "      <td>84</td>\n",
       "      <td>9</td>\n",
       "      <td>17</td>\n",
       "      <td>R</td>\n",
       "      <td>7</td>\n",
       "      <td>17</td>\n",
       "      <td>GSW</td>\n",
       "      <td>BOS</td>\n",
       "    </tr>\n",
       "    <tr>\n",
       "      <th>2</th>\n",
       "      <td>2022</td>\n",
       "      <td>104</td>\n",
       "      <td>68</td>\n",
       "      <td>5</td>\n",
       "      <td>157</td>\n",
       "      <td>73</td>\n",
       "      <td>57</td>\n",
       "      <td>6</td>\n",
       "      <td>12</td>\n",
       "      <td>3</td>\n",
       "      <td>...</td>\n",
       "      <td>151</td>\n",
       "      <td>77</td>\n",
       "      <td>25</td>\n",
       "      <td>1</td>\n",
       "      <td>7</td>\n",
       "      <td>17</td>\n",
       "      <td>1</td>\n",
       "      <td>14</td>\n",
       "      <td>BOS</td>\n",
       "      <td>GSW</td>\n",
       "    </tr>\n",
       "    <tr>\n",
       "      <th>3</th>\n",
       "      <td>2022</td>\n",
       "      <td>94</td>\n",
       "      <td>105</td>\n",
       "      <td>63</td>\n",
       "      <td>5</td>\n",
       "      <td>87</td>\n",
       "      <td>71</td>\n",
       "      <td>2</td>\n",
       "      <td>1</td>\n",
       "      <td>5</td>\n",
       "      <td>...</td>\n",
       "      <td>150</td>\n",
       "      <td>13</td>\n",
       "      <td>84</td>\n",
       "      <td>9</td>\n",
       "      <td>17</td>\n",
       "      <td>R</td>\n",
       "      <td>7</td>\n",
       "      <td>17</td>\n",
       "      <td>GSW</td>\n",
       "      <td>BOS</td>\n",
       "    </tr>\n",
       "    <tr>\n",
       "      <th>4</th>\n",
       "      <td>2022</td>\n",
       "      <td>107</td>\n",
       "      <td>68</td>\n",
       "      <td>5</td>\n",
       "      <td>157</td>\n",
       "      <td>73</td>\n",
       "      <td>57</td>\n",
       "      <td>6</td>\n",
       "      <td>12</td>\n",
       "      <td>3</td>\n",
       "      <td>...</td>\n",
       "      <td>151</td>\n",
       "      <td>77</td>\n",
       "      <td>25</td>\n",
       "      <td>1</td>\n",
       "      <td>7</td>\n",
       "      <td>17</td>\n",
       "      <td>1</td>\n",
       "      <td>14</td>\n",
       "      <td>BOS</td>\n",
       "      <td>GSW</td>\n",
       "    </tr>\n",
       "    <tr>\n",
       "      <th>...</th>\n",
       "      <td>...</td>\n",
       "      <td>...</td>\n",
       "      <td>...</td>\n",
       "      <td>...</td>\n",
       "      <td>...</td>\n",
       "      <td>...</td>\n",
       "      <td>...</td>\n",
       "      <td>...</td>\n",
       "      <td>...</td>\n",
       "      <td>...</td>\n",
       "      <td>...</td>\n",
       "      <td>...</td>\n",
       "      <td>...</td>\n",
       "      <td>...</td>\n",
       "      <td>...</td>\n",
       "      <td>...</td>\n",
       "      <td>...</td>\n",
       "      <td>...</td>\n",
       "      <td>...</td>\n",
       "      <td>...</td>\n",
       "      <td>...</td>\n",
       "    </tr>\n",
       "    <tr>\n",
       "      <th>3637</th>\n",
       "      <td>2001</td>\n",
       "      <td>106</td>\n",
       "      <td>43</td>\n",
       "      <td>12</td>\n",
       "      <td>76</td>\n",
       "      <td>6</td>\n",
       "      <td>7</td>\n",
       "      <td>7</td>\n",
       "      <td>1</td>\n",
       "      <td>7</td>\n",
       "      <td>...</td>\n",
       "      <td>21</td>\n",
       "      <td>82</td>\n",
       "      <td>66</td>\n",
       "      <td>6</td>\n",
       "      <td>15</td>\n",
       "      <td>10</td>\n",
       "      <td>15</td>\n",
       "      <td>4</td>\n",
       "      <td>MIA</td>\n",
       "      <td>CHH</td>\n",
       "    </tr>\n",
       "    <tr>\n",
       "      <th>3638</th>\n",
       "      <td>2001</td>\n",
       "      <td>86</td>\n",
       "      <td>127</td>\n",
       "      <td>27</td>\n",
       "      <td>35</td>\n",
       "      <td>126</td>\n",
       "      <td>39</td>\n",
       "      <td>12</td>\n",
       "      <td>6</td>\n",
       "      <td>R</td>\n",
       "      <td>...</td>\n",
       "      <td>79</td>\n",
       "      <td>53</td>\n",
       "      <td>40</td>\n",
       "      <td>15</td>\n",
       "      <td>12</td>\n",
       "      <td>1</td>\n",
       "      <td>12</td>\n",
       "      <td>13</td>\n",
       "      <td>UTA</td>\n",
       "      <td>DAL</td>\n",
       "    </tr>\n",
       "    <tr>\n",
       "      <th>3639</th>\n",
       "      <td>2001</td>\n",
       "      <td>88</td>\n",
       "      <td>93</td>\n",
       "      <td>42</td>\n",
       "      <td>100</td>\n",
       "      <td>12</td>\n",
       "      <td>46</td>\n",
       "      <td>6</td>\n",
       "      <td>3</td>\n",
       "      <td>8</td>\n",
       "      <td>...</td>\n",
       "      <td>49</td>\n",
       "      <td>126</td>\n",
       "      <td>30</td>\n",
       "      <td>4</td>\n",
       "      <td>4</td>\n",
       "      <td>1</td>\n",
       "      <td>R</td>\n",
       "      <td>7</td>\n",
       "      <td>DAL</td>\n",
       "      <td>UTA</td>\n",
       "    </tr>\n",
       "    <tr>\n",
       "      <th>3640</th>\n",
       "      <td>2001</td>\n",
       "      <td>87</td>\n",
       "      <td>50</td>\n",
       "      <td>23</td>\n",
       "      <td>20</td>\n",
       "      <td>48</td>\n",
       "      <td>3</td>\n",
       "      <td>11</td>\n",
       "      <td>3</td>\n",
       "      <td>3</td>\n",
       "      <td>...</td>\n",
       "      <td>75</td>\n",
       "      <td>128</td>\n",
       "      <td>128</td>\n",
       "      <td>5</td>\n",
       "      <td>9</td>\n",
       "      <td>7</td>\n",
       "      <td>11</td>\n",
       "      <td>11</td>\n",
       "      <td>MIN</td>\n",
       "      <td>SAS</td>\n",
       "    </tr>\n",
       "    <tr>\n",
       "      <th>3641</th>\n",
       "      <td>2001</td>\n",
       "      <td>82</td>\n",
       "      <td>39</td>\n",
       "      <td>25</td>\n",
       "      <td>87</td>\n",
       "      <td>128</td>\n",
       "      <td>67</td>\n",
       "      <td>8</td>\n",
       "      <td>3</td>\n",
       "      <td>1</td>\n",
       "      <td>...</td>\n",
       "      <td>88</td>\n",
       "      <td>51</td>\n",
       "      <td>5</td>\n",
       "      <td>10</td>\n",
       "      <td>12</td>\n",
       "      <td>1</td>\n",
       "      <td>4</td>\n",
       "      <td>11</td>\n",
       "      <td>SAS</td>\n",
       "      <td>MIN</td>\n",
       "    </tr>\n",
       "  </tbody>\n",
       "</table>\n",
       "<p>3642 rows × 44 columns</p>\n",
       "</div>"
      ],
      "text/plain": [
       "      game_date  pts  team1-1-power-forward team1-1-point-guard  \\\n",
       "0          2022  103                     68                   5   \n",
       "1          2022   90                    105                  63   \n",
       "2          2022  104                     68                   5   \n",
       "3          2022   94                    105                  63   \n",
       "4          2022  107                     68                   5   \n",
       "...         ...  ...                    ...                 ...   \n",
       "3637       2001  106                     43                  12   \n",
       "3638       2001   86                    127                  27   \n",
       "3639       2001   88                     93                  42   \n",
       "3640       2001   87                     50                  23   \n",
       "3641       2001   82                     39                  25   \n",
       "\n",
       "     team1-1-shooting-guard team1-1-small-forward team1-1-center  \\\n",
       "0                       157                    73             57   \n",
       "1                         5                    87             71   \n",
       "2                       157                    73             57   \n",
       "3                         5                    87             71   \n",
       "4                       157                    73             57   \n",
       "...                     ...                   ...            ...   \n",
       "3637                     76                     6              7   \n",
       "3638                     35                   126             39   \n",
       "3639                    100                    12             46   \n",
       "3640                     20                    48              3   \n",
       "3641                     87                   128             67   \n",
       "\n",
       "     team1-1-power-forward-exp team1-1-point-guard-exp  \\\n",
       "0                            6                      12   \n",
       "1                            2                       1   \n",
       "2                            6                      12   \n",
       "3                            2                       1   \n",
       "4                            6                      12   \n",
       "...                        ...                     ...   \n",
       "3637                         7                       1   \n",
       "3638                        12                       6   \n",
       "3639                         6                       3   \n",
       "3640                        11                       3   \n",
       "3641                         8                       3   \n",
       "\n",
       "     team1-1-shooting-guard-exp  ... team2-2-shooting-guard  \\\n",
       "0                             3  ...                    151   \n",
       "1                             5  ...                    150   \n",
       "2                             3  ...                    151   \n",
       "3                             5  ...                    150   \n",
       "4                             3  ...                    151   \n",
       "...                         ...  ...                    ...   \n",
       "3637                          7  ...                     21   \n",
       "3638                          R  ...                     79   \n",
       "3639                          8  ...                     49   \n",
       "3640                          3  ...                     75   \n",
       "3641                          1  ...                     88   \n",
       "\n",
       "     team2-2-small-forward team2-2-center team2-2-power-forward-exp  \\\n",
       "0                       77             25                         1   \n",
       "1                       13             84                         9   \n",
       "2                       77             25                         1   \n",
       "3                       13             84                         9   \n",
       "4                       77             25                         1   \n",
       "...                    ...            ...                       ...   \n",
       "3637                    82             66                         6   \n",
       "3638                    53             40                        15   \n",
       "3639                   126             30                         4   \n",
       "3640                   128            128                         5   \n",
       "3641                    51              5                        10   \n",
       "\n",
       "     team2-2-point-guard-exp team2-2-shooting-guard-exp  \\\n",
       "0                          7                         17   \n",
       "1                         17                          R   \n",
       "2                          7                         17   \n",
       "3                         17                          R   \n",
       "4                          7                         17   \n",
       "...                      ...                        ...   \n",
       "3637                      15                         10   \n",
       "3638                      12                          1   \n",
       "3639                       4                          1   \n",
       "3640                       9                          7   \n",
       "3641                      12                          1   \n",
       "\n",
       "     team2-2-small-forward-exp team2-2-center-exp team2 team1  \n",
       "0                            1                 14   BOS   GSW  \n",
       "1                            7                 17   GSW   BOS  \n",
       "2                            1                 14   BOS   GSW  \n",
       "3                            7                 17   GSW   BOS  \n",
       "4                            1                 14   BOS   GSW  \n",
       "...                        ...                ...   ...   ...  \n",
       "3637                        15                  4   MIA   CHH  \n",
       "3638                        12                 13   UTA   DAL  \n",
       "3639                         R                  7   DAL   UTA  \n",
       "3640                        11                 11   MIN   SAS  \n",
       "3641                         4                 11   SAS   MIN  \n",
       "\n",
       "[3642 rows x 44 columns]"
      ]
     },
     "execution_count": 3,
     "metadata": {},
     "output_type": "execute_result"
    }
   ],
   "source": [
    "df"
   ]
  },
  {
   "cell_type": "code",
   "execution_count": 4,
   "metadata": {},
   "outputs": [],
   "source": [
    "df = df.drop(columns=[\"team1\",\"team2\"])"
   ]
  },
  {
   "cell_type": "code",
   "execution_count": 5,
   "metadata": {},
   "outputs": [],
   "source": [
    "cols = list(df.drop(columns=[\"pts\"]).columns)"
   ]
  },
  {
   "cell_type": "code",
   "execution_count": 6,
   "metadata": {},
   "outputs": [
    {
     "name": "stderr",
     "output_type": "stream",
     "text": [
      "<ipython-input-6-b052b01eb04c>:4: SettingWithCopyWarning: \n",
      "A value is trying to be set on a copy of a slice from a DataFrame\n",
      "\n",
      "See the caveats in the documentation: https://pandas.pydata.org/pandas-docs/stable/user_guide/indexing.html#returning-a-view-versus-a-copy\n",
      "  df[col][row] = np.nan\n"
     ]
    }
   ],
   "source": [
    "for col in cols:\n",
    "    for row in df[cols].index:\n",
    "        if df[col][row] == \"Null\":\n",
    "            df[col][row] = np.nan"
   ]
  },
  {
   "cell_type": "code",
   "execution_count": 7,
   "metadata": {},
   "outputs": [],
   "source": [
    "exp_col = []\n",
    "pos_col = []\n",
    "for col in cols:\n",
    "    if 'exp' in col:\n",
    "        exp_col.append(col)\n",
    "    else:\n",
    "        pos_col.append(col)"
   ]
  },
  {
   "cell_type": "code",
   "execution_count": 8,
   "metadata": {},
   "outputs": [
    {
     "name": "stderr",
     "output_type": "stream",
     "text": [
      "<ipython-input-8-fa5c4f850fd1>:4: SettingWithCopyWarning: \n",
      "A value is trying to be set on a copy of a slice from a DataFrame\n",
      "\n",
      "See the caveats in the documentation: https://pandas.pydata.org/pandas-docs/stable/user_guide/indexing.html#returning-a-view-versus-a-copy\n",
      "  df[cols][row] = 0\n"
     ]
    }
   ],
   "source": [
    "for cols in exp_col:\n",
    "    for row in df[cols].index:\n",
    "        if df[cols][row] == \"R\":\n",
    "            df[cols][row] = 0"
   ]
  },
  {
   "cell_type": "code",
   "execution_count": 9,
   "metadata": {},
   "outputs": [],
   "source": [
    "hold_out_df = df[df[\"game_date\"] == 2022]\n",
    "working_df = df[df[\"game_date\"] != 2022]\n",
    "working_df = working_df.drop(columns=[\"game_date\"])\n",
    "hold_out_df = hold_out_df.drop(columns=[\"game_date\"])"
   ]
  },
  {
   "cell_type": "code",
   "execution_count": 10,
   "metadata": {},
   "outputs": [],
   "source": [
    "X = working_df.drop(columns=[\"pts\"])\n",
    "y = working_df[\"pts\"]\n",
    "X_train, X_test, y_train, y_test = train_test_split(X, y, random_state=42, test_size=.2)"
   ]
  },
  {
   "cell_type": "code",
   "execution_count": 11,
   "metadata": {},
   "outputs": [
    {
     "name": "stderr",
     "output_type": "stream",
     "text": [
      "<ipython-input-11-81a8ef57efba>:2: SettingWithCopyWarning: \n",
      "A value is trying to be set on a copy of a slice from a DataFrame.\n",
      "Try using .loc[row_indexer,col_indexer] = value instead\n",
      "\n",
      "See the caveats in the documentation: https://pandas.pydata.org/pandas-docs/stable/user_guide/indexing.html#returning-a-view-versus-a-copy\n",
      "  X_train[col+\" is null\"] = df[col].isna()\n",
      "<ipython-input-11-81a8ef57efba>:3: SettingWithCopyWarning: \n",
      "A value is trying to be set on a copy of a slice from a DataFrame.\n",
      "Try using .loc[row_indexer,col_indexer] = value instead\n",
      "\n",
      "See the caveats in the documentation: https://pandas.pydata.org/pandas-docs/stable/user_guide/indexing.html#returning-a-view-versus-a-copy\n",
      "  X_test[col+\" is null\"] = df[col].isna()\n"
     ]
    }
   ],
   "source": [
    "for col in pos_col:\n",
    "    X_train[col+\" is null\"] = df[col].isna()\n",
    "    X_test[col+\" is null\"] = df[col].isna()"
   ]
  },
  {
   "cell_type": "code",
   "execution_count": 12,
   "metadata": {},
   "outputs": [],
   "source": [
    "num_imp = SimpleImputer(strategy='mean')\n",
    "num_imp.fit(X_train)\n",
    "X_train_imp = num_imp.transform(X_train)\n",
    "X_test_imp = num_imp.transform(X_test)"
   ]
  },
  {
   "cell_type": "code",
   "execution_count": 13,
   "metadata": {},
   "outputs": [],
   "source": [
    "X_train_imp_df = pd.DataFrame(X_train_imp)\n",
    "X_test_imp_df = pd.DataFrame(X_test_imp)\n",
    "\n",
    "for col in X_train_imp_df.columns:\n",
    "    X_train_imp_df[col] = X_train_imp_df[col].astype(float)\n",
    "    X_test_imp_df[col] = X_test_imp_df[col].astype(float)"
   ]
  },
  {
   "cell_type": "code",
   "execution_count": 14,
   "metadata": {},
   "outputs": [],
   "source": [
    "## XG Boost"
   ]
  },
  {
   "cell_type": "code",
   "execution_count": 15,
   "metadata": {},
   "outputs": [
    {
     "data": {
      "text/html": [
       "<div>\n",
       "<style scoped>\n",
       "    .dataframe tbody tr th:only-of-type {\n",
       "        vertical-align: middle;\n",
       "    }\n",
       "\n",
       "    .dataframe tbody tr th {\n",
       "        vertical-align: top;\n",
       "    }\n",
       "\n",
       "    .dataframe thead th {\n",
       "        text-align: right;\n",
       "    }\n",
       "</style>\n",
       "<table border=\"1\" class=\"dataframe\">\n",
       "  <thead>\n",
       "    <tr style=\"text-align: right;\">\n",
       "      <th></th>\n",
       "      <th>0</th>\n",
       "      <th>1</th>\n",
       "      <th>2</th>\n",
       "      <th>3</th>\n",
       "      <th>4</th>\n",
       "      <th>5</th>\n",
       "      <th>6</th>\n",
       "      <th>7</th>\n",
       "      <th>8</th>\n",
       "      <th>9</th>\n",
       "      <th>...</th>\n",
       "      <th>51</th>\n",
       "      <th>52</th>\n",
       "      <th>53</th>\n",
       "      <th>54</th>\n",
       "      <th>55</th>\n",
       "      <th>56</th>\n",
       "      <th>57</th>\n",
       "      <th>58</th>\n",
       "      <th>59</th>\n",
       "      <th>60</th>\n",
       "    </tr>\n",
       "  </thead>\n",
       "  <tbody>\n",
       "    <tr>\n",
       "      <th>0</th>\n",
       "      <td>75.0</td>\n",
       "      <td>64.0</td>\n",
       "      <td>78.0</td>\n",
       "      <td>24.0</td>\n",
       "      <td>86.0</td>\n",
       "      <td>6.0</td>\n",
       "      <td>6.0</td>\n",
       "      <td>3.0</td>\n",
       "      <td>3.0</td>\n",
       "      <td>0.0</td>\n",
       "      <td>...</td>\n",
       "      <td>0.0</td>\n",
       "      <td>0.0</td>\n",
       "      <td>0.0</td>\n",
       "      <td>0.0</td>\n",
       "      <td>0.0</td>\n",
       "      <td>0.0</td>\n",
       "      <td>0.0</td>\n",
       "      <td>0.0</td>\n",
       "      <td>0.0</td>\n",
       "      <td>0.0</td>\n",
       "    </tr>\n",
       "    <tr>\n",
       "      <th>1</th>\n",
       "      <td>65.0</td>\n",
       "      <td>25.0</td>\n",
       "      <td>73.0</td>\n",
       "      <td>2.0</td>\n",
       "      <td>22.0</td>\n",
       "      <td>9.0</td>\n",
       "      <td>0.0</td>\n",
       "      <td>1.0</td>\n",
       "      <td>4.0</td>\n",
       "      <td>5.0</td>\n",
       "      <td>...</td>\n",
       "      <td>0.0</td>\n",
       "      <td>0.0</td>\n",
       "      <td>0.0</td>\n",
       "      <td>0.0</td>\n",
       "      <td>0.0</td>\n",
       "      <td>0.0</td>\n",
       "      <td>0.0</td>\n",
       "      <td>0.0</td>\n",
       "      <td>0.0</td>\n",
       "      <td>0.0</td>\n",
       "    </tr>\n",
       "    <tr>\n",
       "      <th>2</th>\n",
       "      <td>106.0</td>\n",
       "      <td>20.0</td>\n",
       "      <td>20.0</td>\n",
       "      <td>54.0</td>\n",
       "      <td>21.0</td>\n",
       "      <td>9.0</td>\n",
       "      <td>9.0</td>\n",
       "      <td>12.0</td>\n",
       "      <td>1.0</td>\n",
       "      <td>3.0</td>\n",
       "      <td>...</td>\n",
       "      <td>0.0</td>\n",
       "      <td>0.0</td>\n",
       "      <td>0.0</td>\n",
       "      <td>0.0</td>\n",
       "      <td>0.0</td>\n",
       "      <td>0.0</td>\n",
       "      <td>0.0</td>\n",
       "      <td>0.0</td>\n",
       "      <td>0.0</td>\n",
       "      <td>0.0</td>\n",
       "    </tr>\n",
       "    <tr>\n",
       "      <th>3</th>\n",
       "      <td>59.0</td>\n",
       "      <td>54.0</td>\n",
       "      <td>64.0</td>\n",
       "      <td>36.0</td>\n",
       "      <td>1.0</td>\n",
       "      <td>11.0</td>\n",
       "      <td>4.0</td>\n",
       "      <td>1.0</td>\n",
       "      <td>7.0</td>\n",
       "      <td>6.0</td>\n",
       "      <td>...</td>\n",
       "      <td>0.0</td>\n",
       "      <td>0.0</td>\n",
       "      <td>0.0</td>\n",
       "      <td>0.0</td>\n",
       "      <td>0.0</td>\n",
       "      <td>0.0</td>\n",
       "      <td>0.0</td>\n",
       "      <td>0.0</td>\n",
       "      <td>0.0</td>\n",
       "      <td>0.0</td>\n",
       "    </tr>\n",
       "    <tr>\n",
       "      <th>4</th>\n",
       "      <td>83.0</td>\n",
       "      <td>8.0</td>\n",
       "      <td>53.0</td>\n",
       "      <td>24.0</td>\n",
       "      <td>52.0</td>\n",
       "      <td>1.0</td>\n",
       "      <td>8.0</td>\n",
       "      <td>1.0</td>\n",
       "      <td>12.0</td>\n",
       "      <td>3.0</td>\n",
       "      <td>...</td>\n",
       "      <td>0.0</td>\n",
       "      <td>0.0</td>\n",
       "      <td>0.0</td>\n",
       "      <td>0.0</td>\n",
       "      <td>0.0</td>\n",
       "      <td>0.0</td>\n",
       "      <td>0.0</td>\n",
       "      <td>0.0</td>\n",
       "      <td>0.0</td>\n",
       "      <td>0.0</td>\n",
       "    </tr>\n",
       "  </tbody>\n",
       "</table>\n",
       "<p>5 rows × 61 columns</p>\n",
       "</div>"
      ],
      "text/plain": [
       "      0     1     2     3     4     5    6     7     8    9   ...   51   52  \\\n",
       "0   75.0  64.0  78.0  24.0  86.0   6.0  6.0   3.0   3.0  0.0  ...  0.0  0.0   \n",
       "1   65.0  25.0  73.0   2.0  22.0   9.0  0.0   1.0   4.0  5.0  ...  0.0  0.0   \n",
       "2  106.0  20.0  20.0  54.0  21.0   9.0  9.0  12.0   1.0  3.0  ...  0.0  0.0   \n",
       "3   59.0  54.0  64.0  36.0   1.0  11.0  4.0   1.0   7.0  6.0  ...  0.0  0.0   \n",
       "4   83.0   8.0  53.0  24.0  52.0   1.0  8.0   1.0  12.0  3.0  ...  0.0  0.0   \n",
       "\n",
       "    53   54   55   56   57   58   59   60  \n",
       "0  0.0  0.0  0.0  0.0  0.0  0.0  0.0  0.0  \n",
       "1  0.0  0.0  0.0  0.0  0.0  0.0  0.0  0.0  \n",
       "2  0.0  0.0  0.0  0.0  0.0  0.0  0.0  0.0  \n",
       "3  0.0  0.0  0.0  0.0  0.0  0.0  0.0  0.0  \n",
       "4  0.0  0.0  0.0  0.0  0.0  0.0  0.0  0.0  \n",
       "\n",
       "[5 rows x 61 columns]"
      ]
     },
     "execution_count": 15,
     "metadata": {},
     "output_type": "execute_result"
    }
   ],
   "source": [
    "X_train_imp_df.head()"
   ]
  },
  {
   "cell_type": "code",
   "execution_count": 16,
   "metadata": {},
   "outputs": [
    {
     "data": {
      "text/html": [
       "<div>\n",
       "<style scoped>\n",
       "    .dataframe tbody tr th:only-of-type {\n",
       "        vertical-align: middle;\n",
       "    }\n",
       "\n",
       "    .dataframe tbody tr th {\n",
       "        vertical-align: top;\n",
       "    }\n",
       "\n",
       "    .dataframe thead th {\n",
       "        text-align: right;\n",
       "    }\n",
       "</style>\n",
       "<table border=\"1\" class=\"dataframe\">\n",
       "  <thead>\n",
       "    <tr style=\"text-align: right;\">\n",
       "      <th></th>\n",
       "      <th>team1-1-power-forward</th>\n",
       "      <th>team1-1-point-guard</th>\n",
       "      <th>team1-1-shooting-guard</th>\n",
       "      <th>team1-1-small-forward</th>\n",
       "      <th>team1-1-center</th>\n",
       "      <th>team1-1-power-forward-exp</th>\n",
       "      <th>team1-1-point-guard-exp</th>\n",
       "      <th>team1-1-shooting-guard-exp</th>\n",
       "      <th>team1-1-small-forward-exp</th>\n",
       "      <th>team1-1-center-exp</th>\n",
       "      <th>...</th>\n",
       "      <th>team2-1-power-forward is null</th>\n",
       "      <th>team2-1-point-guard is null</th>\n",
       "      <th>team2-1-shooting-guard is null</th>\n",
       "      <th>team2-1-small-forward is null</th>\n",
       "      <th>team2-1-center is null</th>\n",
       "      <th>team2-2-power-forward is null</th>\n",
       "      <th>team2-2-point-guard is null</th>\n",
       "      <th>team2-2-shooting-guard is null</th>\n",
       "      <th>team2-2-small-forward is null</th>\n",
       "      <th>team2-2-center is null</th>\n",
       "    </tr>\n",
       "  </thead>\n",
       "  <tbody>\n",
       "    <tr>\n",
       "      <th>1899</th>\n",
       "      <td>75</td>\n",
       "      <td>64</td>\n",
       "      <td>78</td>\n",
       "      <td>24</td>\n",
       "      <td>86</td>\n",
       "      <td>6</td>\n",
       "      <td>6</td>\n",
       "      <td>3</td>\n",
       "      <td>3</td>\n",
       "      <td>0</td>\n",
       "      <td>...</td>\n",
       "      <td>False</td>\n",
       "      <td>False</td>\n",
       "      <td>False</td>\n",
       "      <td>False</td>\n",
       "      <td>False</td>\n",
       "      <td>False</td>\n",
       "      <td>False</td>\n",
       "      <td>False</td>\n",
       "      <td>False</td>\n",
       "      <td>False</td>\n",
       "    </tr>\n",
       "    <tr>\n",
       "      <th>3357</th>\n",
       "      <td>65</td>\n",
       "      <td>25</td>\n",
       "      <td>73</td>\n",
       "      <td>2</td>\n",
       "      <td>22</td>\n",
       "      <td>9</td>\n",
       "      <td>0</td>\n",
       "      <td>1</td>\n",
       "      <td>4</td>\n",
       "      <td>5</td>\n",
       "      <td>...</td>\n",
       "      <td>False</td>\n",
       "      <td>False</td>\n",
       "      <td>False</td>\n",
       "      <td>False</td>\n",
       "      <td>False</td>\n",
       "      <td>False</td>\n",
       "      <td>False</td>\n",
       "      <td>False</td>\n",
       "      <td>False</td>\n",
       "      <td>False</td>\n",
       "    </tr>\n",
       "    <tr>\n",
       "      <th>1926</th>\n",
       "      <td>106</td>\n",
       "      <td>20</td>\n",
       "      <td>20</td>\n",
       "      <td>54</td>\n",
       "      <td>21</td>\n",
       "      <td>9</td>\n",
       "      <td>9</td>\n",
       "      <td>12</td>\n",
       "      <td>1</td>\n",
       "      <td>3</td>\n",
       "      <td>...</td>\n",
       "      <td>False</td>\n",
       "      <td>False</td>\n",
       "      <td>False</td>\n",
       "      <td>False</td>\n",
       "      <td>False</td>\n",
       "      <td>False</td>\n",
       "      <td>False</td>\n",
       "      <td>False</td>\n",
       "      <td>False</td>\n",
       "      <td>False</td>\n",
       "    </tr>\n",
       "    <tr>\n",
       "      <th>3096</th>\n",
       "      <td>59</td>\n",
       "      <td>54</td>\n",
       "      <td>64</td>\n",
       "      <td>36</td>\n",
       "      <td>1</td>\n",
       "      <td>11</td>\n",
       "      <td>4</td>\n",
       "      <td>1</td>\n",
       "      <td>7</td>\n",
       "      <td>6</td>\n",
       "      <td>...</td>\n",
       "      <td>False</td>\n",
       "      <td>False</td>\n",
       "      <td>False</td>\n",
       "      <td>False</td>\n",
       "      <td>False</td>\n",
       "      <td>False</td>\n",
       "      <td>False</td>\n",
       "      <td>False</td>\n",
       "      <td>False</td>\n",
       "      <td>False</td>\n",
       "    </tr>\n",
       "    <tr>\n",
       "      <th>3007</th>\n",
       "      <td>83</td>\n",
       "      <td>8</td>\n",
       "      <td>53</td>\n",
       "      <td>24</td>\n",
       "      <td>52</td>\n",
       "      <td>1</td>\n",
       "      <td>8</td>\n",
       "      <td>1</td>\n",
       "      <td>12</td>\n",
       "      <td>3</td>\n",
       "      <td>...</td>\n",
       "      <td>False</td>\n",
       "      <td>False</td>\n",
       "      <td>False</td>\n",
       "      <td>False</td>\n",
       "      <td>False</td>\n",
       "      <td>False</td>\n",
       "      <td>False</td>\n",
       "      <td>False</td>\n",
       "      <td>False</td>\n",
       "      <td>False</td>\n",
       "    </tr>\n",
       "  </tbody>\n",
       "</table>\n",
       "<p>5 rows × 61 columns</p>\n",
       "</div>"
      ],
      "text/plain": [
       "      team1-1-power-forward team1-1-point-guard team1-1-shooting-guard  \\\n",
       "1899                     75                  64                     78   \n",
       "3357                     65                  25                     73   \n",
       "1926                    106                  20                     20   \n",
       "3096                     59                  54                     64   \n",
       "3007                     83                   8                     53   \n",
       "\n",
       "     team1-1-small-forward team1-1-center team1-1-power-forward-exp  \\\n",
       "1899                    24             86                         6   \n",
       "3357                     2             22                         9   \n",
       "1926                    54             21                         9   \n",
       "3096                    36              1                        11   \n",
       "3007                    24             52                         1   \n",
       "\n",
       "     team1-1-point-guard-exp team1-1-shooting-guard-exp  \\\n",
       "1899                       6                          3   \n",
       "3357                       0                          1   \n",
       "1926                       9                         12   \n",
       "3096                       4                          1   \n",
       "3007                       8                          1   \n",
       "\n",
       "     team1-1-small-forward-exp team1-1-center-exp  ...  \\\n",
       "1899                         3                  0  ...   \n",
       "3357                         4                  5  ...   \n",
       "1926                         1                  3  ...   \n",
       "3096                         7                  6  ...   \n",
       "3007                        12                  3  ...   \n",
       "\n",
       "     team2-1-power-forward is null team2-1-point-guard is null  \\\n",
       "1899                         False                       False   \n",
       "3357                         False                       False   \n",
       "1926                         False                       False   \n",
       "3096                         False                       False   \n",
       "3007                         False                       False   \n",
       "\n",
       "     team2-1-shooting-guard is null team2-1-small-forward is null  \\\n",
       "1899                          False                         False   \n",
       "3357                          False                         False   \n",
       "1926                          False                         False   \n",
       "3096                          False                         False   \n",
       "3007                          False                         False   \n",
       "\n",
       "     team2-1-center is null team2-2-power-forward is null  \\\n",
       "1899                  False                         False   \n",
       "3357                  False                         False   \n",
       "1926                  False                         False   \n",
       "3096                  False                         False   \n",
       "3007                  False                         False   \n",
       "\n",
       "     team2-2-point-guard is null team2-2-shooting-guard is null  \\\n",
       "1899                       False                          False   \n",
       "3357                       False                          False   \n",
       "1926                       False                          False   \n",
       "3096                       False                          False   \n",
       "3007                       False                          False   \n",
       "\n",
       "     team2-2-small-forward is null team2-2-center is null  \n",
       "1899                         False                  False  \n",
       "3357                         False                  False  \n",
       "1926                         False                  False  \n",
       "3096                         False                  False  \n",
       "3007                         False                  False  \n",
       "\n",
       "[5 rows x 61 columns]"
      ]
     },
     "execution_count": 16,
     "metadata": {},
     "output_type": "execute_result"
    }
   ],
   "source": [
    "X_train.head()"
   ]
  },
  {
   "cell_type": "code",
   "execution_count": 17,
   "metadata": {},
   "outputs": [
    {
     "name": "stdout",
     "output_type": "stream",
     "text": [
      "<class 'pandas.core.frame.DataFrame'>\n",
      "Int64Index: 2774 entries, 1899 to 3348\n",
      "Data columns (total 61 columns):\n",
      " #   Column                          Non-Null Count  Dtype \n",
      "---  ------                          --------------  ----- \n",
      " 0   team1-1-power-forward           2774 non-null   int64 \n",
      " 1   team1-1-point-guard             2764 non-null   object\n",
      " 2   team1-1-shooting-guard          2759 non-null   object\n",
      " 3   team1-1-small-forward           2755 non-null   object\n",
      " 4   team1-1-center                  2755 non-null   object\n",
      " 5   team1-1-power-forward-exp       2774 non-null   object\n",
      " 6   team1-1-point-guard-exp         2764 non-null   object\n",
      " 7   team1-1-shooting-guard-exp      2759 non-null   object\n",
      " 8   team1-1-small-forward-exp       2755 non-null   object\n",
      " 9   team1-1-center-exp              2755 non-null   object\n",
      " 10  team1-2-power-forward           2760 non-null   object\n",
      " 11  team1-2-point-guard             2716 non-null   object\n",
      " 12  team1-2-shooting-guard          2734 non-null   object\n",
      " 13  team1-2-small-forward           2720 non-null   object\n",
      " 14  team1-2-center                  2716 non-null   object\n",
      " 15  team1-2-power-forward-exp       2760 non-null   object\n",
      " 16  team1-2-point-guard-exp         2716 non-null   object\n",
      " 17  team1-2-shooting-guard-exp      2734 non-null   object\n",
      " 18  team1-2-small-forward-exp       2720 non-null   object\n",
      " 19  team1-2-center-exp              2716 non-null   object\n",
      " 20  team2-1-power-forward           2774 non-null   int64 \n",
      " 21  team2-1-point-guard             2764 non-null   object\n",
      " 22  team2-1-shooting-guard          2755 non-null   object\n",
      " 23  team2-1-small-forward           2757 non-null   object\n",
      " 24  team2-1-center                  2753 non-null   object\n",
      " 25  team2-1-power-forward-exp       2774 non-null   object\n",
      " 26  team2-1-point-guard-exp         2764 non-null   object\n",
      " 27  team2-1-shooting-guard-exp      2755 non-null   object\n",
      " 28  team2-1-small-forward-exp       2757 non-null   object\n",
      " 29  team2-1-center-exp              2753 non-null   object\n",
      " 30  team2-2-power-forward           2760 non-null   object\n",
      " 31  team2-2-point-guard             2716 non-null   object\n",
      " 32  team2-2-shooting-guard          2736 non-null   object\n",
      " 33  team2-2-small-forward           2718 non-null   object\n",
      " 34  team2-2-center                  2716 non-null   object\n",
      " 35  team2-2-power-forward-exp       2760 non-null   object\n",
      " 36  team2-2-point-guard-exp         2716 non-null   object\n",
      " 37  team2-2-shooting-guard-exp      2736 non-null   object\n",
      " 38  team2-2-small-forward-exp       2718 non-null   object\n",
      " 39  team2-2-center-exp              2716 non-null   object\n",
      " 40  game_date is null               2774 non-null   bool  \n",
      " 41  team1-1-power-forward is null   2774 non-null   bool  \n",
      " 42  team1-1-point-guard is null     2774 non-null   bool  \n",
      " 43  team1-1-shooting-guard is null  2774 non-null   bool  \n",
      " 44  team1-1-small-forward is null   2774 non-null   bool  \n",
      " 45  team1-1-center is null          2774 non-null   bool  \n",
      " 46  team1-2-power-forward is null   2774 non-null   bool  \n",
      " 47  team1-2-point-guard is null     2774 non-null   bool  \n",
      " 48  team1-2-shooting-guard is null  2774 non-null   bool  \n",
      " 49  team1-2-small-forward is null   2774 non-null   bool  \n",
      " 50  team1-2-center is null          2774 non-null   bool  \n",
      " 51  team2-1-power-forward is null   2774 non-null   bool  \n",
      " 52  team2-1-point-guard is null     2774 non-null   bool  \n",
      " 53  team2-1-shooting-guard is null  2774 non-null   bool  \n",
      " 54  team2-1-small-forward is null   2774 non-null   bool  \n",
      " 55  team2-1-center is null          2774 non-null   bool  \n",
      " 56  team2-2-power-forward is null   2774 non-null   bool  \n",
      " 57  team2-2-point-guard is null     2774 non-null   bool  \n",
      " 58  team2-2-shooting-guard is null  2774 non-null   bool  \n",
      " 59  team2-2-small-forward is null   2774 non-null   bool  \n",
      " 60  team2-2-center is null          2774 non-null   bool  \n",
      "dtypes: bool(21), int64(2), object(38)\n",
      "memory usage: 945.4+ KB\n"
     ]
    }
   ],
   "source": [
    "X_train.info()"
   ]
  },
  {
   "cell_type": "code",
   "execution_count": null,
   "metadata": {},
   "outputs": [],
   "source": [
    "xgb_model = xgb.XGBClassifier(random_state=42, \n",
    "                              learning_rate=.1, \n",
    "                              max_depth=2, \n",
    "                              base_score=.66)\n",
    "\n",
    "xgb_model.fit(X_train_imp_df, y_train)"
   ]
  },
  {
   "cell_type": "code",
   "execution_count": null,
   "metadata": {},
   "outputs": [],
   "source": [
    "train_pred = xgb_model.predict(X_train_imp_df)\n",
    "test_pred = xgb_model.predict(X_test_imp_df)"
   ]
  },
  {
   "cell_type": "code",
   "execution_count": null,
   "metadata": {},
   "outputs": [],
   "source": [
    "print(mean_squared_error(y_train, train_pred))\n",
    "print(mean_squared_error(y_test, test_pred))"
   ]
  },
  {
   "cell_type": "code",
   "execution_count": null,
   "metadata": {},
   "outputs": [],
   "source": [
    "# Grid Search"
   ]
  },
  {
   "cell_type": "code",
   "execution_count": 23,
   "metadata": {},
   "outputs": [],
   "source": [
    "xgb_regres = xgb.XGBRegressor(random_state=42)"
   ]
  },
  {
   "cell_type": "code",
   "execution_count": 26,
   "metadata": {},
   "outputs": [],
   "source": [
    "param_grid = {\n",
    "    \"max_depth\": [5, 14]\n",
    "}"
   ]
  },
  {
   "cell_type": "code",
   "execution_count": 30,
   "metadata": {},
   "outputs": [],
   "source": [
    "gs = GridSearchCV(xgb_regres, param_grid, cv=5, scoring='neg_mean_squared_error', verbose=3)"
   ]
  },
  {
   "cell_type": "code",
   "execution_count": 32,
   "metadata": {},
   "outputs": [
    {
     "name": "stdout",
     "output_type": "stream",
     "text": [
      "Fitting 5 folds for each of 2 candidates, totalling 10 fits\n",
      "[CV] max_depth=5 .....................................................\n"
     ]
    },
    {
     "name": "stderr",
     "output_type": "stream",
     "text": [
      "[Parallel(n_jobs=1)]: Using backend SequentialBackend with 1 concurrent workers.\n"
     ]
    },
    {
     "name": "stdout",
     "output_type": "stream",
     "text": [
      "[CV] ...................... max_depth=5, score=-150.414, total=   2.8s\n",
      "[CV] max_depth=5 .....................................................\n"
     ]
    },
    {
     "name": "stderr",
     "output_type": "stream",
     "text": [
      "[Parallel(n_jobs=1)]: Done   1 out of   1 | elapsed:    2.7s remaining:    0.0s\n"
     ]
    },
    {
     "name": "stdout",
     "output_type": "stream",
     "text": [
      "[CV] ...................... max_depth=5, score=-144.043, total=   0.3s\n",
      "[CV] max_depth=5 .....................................................\n"
     ]
    },
    {
     "name": "stderr",
     "output_type": "stream",
     "text": [
      "[Parallel(n_jobs=1)]: Done   2 out of   2 | elapsed:    3.0s remaining:    0.0s\n"
     ]
    },
    {
     "name": "stdout",
     "output_type": "stream",
     "text": [
      "[CV] ...................... max_depth=5, score=-176.370, total=   0.3s\n",
      "[CV] max_depth=5 .....................................................\n",
      "[CV] ...................... max_depth=5, score=-154.100, total=   0.3s\n",
      "[CV] max_depth=5 .....................................................\n",
      "[CV] ...................... max_depth=5, score=-138.043, total=   0.3s\n",
      "[CV] max_depth=14 ....................................................\n",
      "[CV] ..................... max_depth=14, score=-153.759, total=   0.4s\n",
      "[CV] max_depth=14 ....................................................\n",
      "[CV] ..................... max_depth=14, score=-148.572, total=   0.4s\n",
      "[CV] max_depth=14 ....................................................\n",
      "[CV] ..................... max_depth=14, score=-180.787, total=   0.4s\n",
      "[CV] max_depth=14 ....................................................\n",
      "[CV] ..................... max_depth=14, score=-156.121, total=   0.4s\n",
      "[CV] max_depth=14 ....................................................\n",
      "[CV] ..................... max_depth=14, score=-141.628, total=   0.4s\n"
     ]
    },
    {
     "name": "stderr",
     "output_type": "stream",
     "text": [
      "[Parallel(n_jobs=1)]: Done  10 out of  10 | elapsed:    5.9s finished\n"
     ]
    },
    {
     "data": {
      "text/plain": [
       "GridSearchCV(cv=5,\n",
       "             estimator=XGBRegressor(base_score=None, booster=None,\n",
       "                                    colsample_bylevel=None,\n",
       "                                    colsample_bynode=None,\n",
       "                                    colsample_bytree=None, gamma=None,\n",
       "                                    gpu_id=None, importance_type='gain',\n",
       "                                    interaction_constraints=None,\n",
       "                                    learning_rate=None, max_delta_step=None,\n",
       "                                    max_depth=None, min_child_weight=None,\n",
       "                                    missing=nan, monotone_constraints=None,\n",
       "                                    n_estimators=100, n_jobs=None,\n",
       "                                    num_parallel_tree=None, random_state=42,\n",
       "                                    reg_alpha=None, reg_lambda=None,\n",
       "                                    scale_pos_weight=None, subsample=None,\n",
       "                                    tree_method=None, validate_parameters=None,\n",
       "                                    verbosity=None),\n",
       "             param_grid={'max_depth': [5, 14]},\n",
       "             scoring='neg_mean_squared_error', verbose=3)"
      ]
     },
     "execution_count": 32,
     "metadata": {},
     "output_type": "execute_result"
    }
   ],
   "source": [
    "gs.fit(X_train_imp_df, y_train)"
   ]
  },
  {
   "cell_type": "code",
   "execution_count": 33,
   "metadata": {},
   "outputs": [],
   "source": [
    "gs = GridSearchCV(xgb_regres, param_grid, cv=5, scoring='explained_variance', verbose=3)"
   ]
  },
  {
   "cell_type": "code",
   "execution_count": 34,
   "metadata": {},
   "outputs": [
    {
     "name": "stdout",
     "output_type": "stream",
     "text": [
      "Fitting 5 folds for each of 2 candidates, totalling 10 fits\n",
      "[CV] max_depth=5 .....................................................\n"
     ]
    },
    {
     "name": "stderr",
     "output_type": "stream",
     "text": [
      "[Parallel(n_jobs=1)]: Using backend SequentialBackend with 1 concurrent workers.\n"
     ]
    },
    {
     "name": "stdout",
     "output_type": "stream",
     "text": [
      "[CV] ......................... max_depth=5, score=0.080, total=   0.3s\n",
      "[CV] max_depth=5 .....................................................\n"
     ]
    },
    {
     "name": "stderr",
     "output_type": "stream",
     "text": [
      "[Parallel(n_jobs=1)]: Done   1 out of   1 | elapsed:    0.2s remaining:    0.0s\n"
     ]
    },
    {
     "name": "stdout",
     "output_type": "stream",
     "text": [
      "[CV] ......................... max_depth=5, score=0.191, total=   0.3s\n",
      "[CV] max_depth=5 .....................................................\n"
     ]
    },
    {
     "name": "stderr",
     "output_type": "stream",
     "text": [
      "[Parallel(n_jobs=1)]: Done   2 out of   2 | elapsed:    0.5s remaining:    0.0s\n"
     ]
    },
    {
     "name": "stdout",
     "output_type": "stream",
     "text": [
      "[CV] ......................... max_depth=5, score=0.056, total=   0.3s\n",
      "[CV] max_depth=5 .....................................................\n",
      "[CV] ......................... max_depth=5, score=0.251, total=   0.3s\n",
      "[CV] max_depth=5 .....................................................\n",
      "[CV] ......................... max_depth=5, score=0.227, total=   0.3s\n",
      "[CV] max_depth=14 ....................................................\n",
      "[CV] ........................ max_depth=14, score=0.059, total=   0.4s\n",
      "[CV] max_depth=14 ....................................................\n",
      "[CV] ........................ max_depth=14, score=0.166, total=   0.4s\n",
      "[CV] max_depth=14 ....................................................\n",
      "[CV] ........................ max_depth=14, score=0.033, total=   0.4s\n",
      "[CV] max_depth=14 ....................................................\n",
      "[CV] ........................ max_depth=14, score=0.241, total=   0.4s\n",
      "[CV] max_depth=14 ....................................................\n",
      "[CV] ........................ max_depth=14, score=0.206, total=   0.4s\n"
     ]
    },
    {
     "name": "stderr",
     "output_type": "stream",
     "text": [
      "[Parallel(n_jobs=1)]: Done  10 out of  10 | elapsed:    3.4s finished\n"
     ]
    },
    {
     "data": {
      "text/plain": [
       "GridSearchCV(cv=5,\n",
       "             estimator=XGBRegressor(base_score=None, booster=None,\n",
       "                                    colsample_bylevel=None,\n",
       "                                    colsample_bynode=None,\n",
       "                                    colsample_bytree=None, gamma=None,\n",
       "                                    gpu_id=None, importance_type='gain',\n",
       "                                    interaction_constraints=None,\n",
       "                                    learning_rate=None, max_delta_step=None,\n",
       "                                    max_depth=None, min_child_weight=None,\n",
       "                                    missing=nan, monotone_constraints=None,\n",
       "                                    n_estimators=100, n_jobs=None,\n",
       "                                    num_parallel_tree=None, random_state=42,\n",
       "                                    reg_alpha=None, reg_lambda=None,\n",
       "                                    scale_pos_weight=None, subsample=None,\n",
       "                                    tree_method=None, validate_parameters=None,\n",
       "                                    verbosity=None),\n",
       "             param_grid={'max_depth': [5, 14]}, scoring='explained_variance',\n",
       "             verbose=3)"
      ]
     },
     "execution_count": 34,
     "metadata": {},
     "output_type": "execute_result"
    }
   ],
   "source": [
    "gs.fit(X_train_imp_df, y_train)"
   ]
  },
  {
   "cell_type": "code",
   "execution_count": 35,
   "metadata": {},
   "outputs": [],
   "source": [
    "gs = GridSearchCV(xgb_regres, param_grid, cv=5, scoring='max_error', verbose=3)"
   ]
  },
  {
   "cell_type": "code",
   "execution_count": 36,
   "metadata": {},
   "outputs": [
    {
     "name": "stdout",
     "output_type": "stream",
     "text": [
      "Fitting 5 folds for each of 2 candidates, totalling 10 fits\n",
      "[CV] max_depth=5 .....................................................\n",
      "[CV] ....................... max_depth=5, score=-38.011, total=   0.1s\n",
      "[CV] max_depth=5 .....................................................\n",
      "[CV] ....................... max_depth=5, score=-44.432, total=   0.1s\n",
      "[CV] max_depth=5 .....................................................\n",
      "[CV] ....................... max_depth=5, score=-54.717, total=   0.1s"
     ]
    },
    {
     "name": "stderr",
     "output_type": "stream",
     "text": [
      "[Parallel(n_jobs=1)]: Using backend SequentialBackend with 1 concurrent workers.\n",
      "[Parallel(n_jobs=1)]: Done   1 out of   1 | elapsed:    0.0s remaining:    0.0s\n",
      "[Parallel(n_jobs=1)]: Done   2 out of   2 | elapsed:    0.0s remaining:    0.0s\n"
     ]
    },
    {
     "name": "stdout",
     "output_type": "stream",
     "text": [
      "\n",
      "[CV] max_depth=5 .....................................................\n",
      "[CV] ....................... max_depth=5, score=-52.082, total=   0.1s\n",
      "[CV] max_depth=5 .....................................................\n",
      "[CV] ....................... max_depth=5, score=-36.452, total=   0.1s\n",
      "[CV] max_depth=14 ....................................................\n",
      "[CV] ...................... max_depth=14, score=-38.999, total=   0.1s\n",
      "[CV] max_depth=14 ....................................................\n",
      "[CV] ...................... max_depth=14, score=-45.995, total=   0.1s\n",
      "[CV] max_depth=14 ....................................................\n",
      "[CV] ...................... max_depth=14, score=-54.600, total=   0.1s\n",
      "[CV] max_depth=14 ....................................................\n",
      "[CV] ...................... max_depth=14, score=-52.250, total=   0.1s\n",
      "[CV] max_depth=14 ....................................................\n",
      "[CV] ...................... max_depth=14, score=-36.667, total=   0.1s\n"
     ]
    },
    {
     "name": "stderr",
     "output_type": "stream",
     "text": [
      "[Parallel(n_jobs=1)]: Done  10 out of  10 | elapsed:    0.8s finished\n"
     ]
    },
    {
     "data": {
      "text/plain": [
       "GridSearchCV(cv=5,\n",
       "             estimator=XGBRegressor(base_score=None, booster=None,\n",
       "                                    colsample_bylevel=None,\n",
       "                                    colsample_bynode=None,\n",
       "                                    colsample_bytree=None, gamma=None,\n",
       "                                    gpu_id=None, importance_type='gain',\n",
       "                                    interaction_constraints=None,\n",
       "                                    learning_rate=None, max_delta_step=None,\n",
       "                                    max_depth=None, min_child_weight=None,\n",
       "                                    missing=nan, monotone_constraints=None,\n",
       "                                    n_estimators=100, n_jobs=None,\n",
       "                                    num_parallel_tree=None, random_state=42,\n",
       "                                    reg_alpha=None, reg_lambda=None,\n",
       "                                    scale_pos_weight=None, subsample=None,\n",
       "                                    tree_method=None, validate_parameters=None,\n",
       "                                    verbosity=None),\n",
       "             param_grid={'max_depth': [5, 14]}, scoring='max_error', verbose=3)"
      ]
     },
     "execution_count": 36,
     "metadata": {},
     "output_type": "execute_result"
    }
   ],
   "source": [
    "gs.fit(X_train_imp_df, y_train)"
   ]
  },
  {
   "cell_type": "code",
   "execution_count": 37,
   "metadata": {},
   "outputs": [],
   "source": [
    "gs = GridSearchCV(xgb_regres, param_grid, cv=5, scoring='neg_mean_absolute_error', verbose=3)"
   ]
  },
  {
   "cell_type": "code",
   "execution_count": 38,
   "metadata": {},
   "outputs": [
    {
     "name": "stdout",
     "output_type": "stream",
     "text": [
      "Fitting 5 folds for each of 2 candidates, totalling 10 fits\n",
      "[CV] max_depth=5 .....................................................\n",
      "[CV] ........................ max_depth=5, score=-9.874, total=   0.1s\n",
      "[CV] max_depth=5 .....................................................\n",
      "[CV] ........................ max_depth=5, score=-9.418, total=   0.1s\n",
      "[CV] max_depth=5 .....................................................\n"
     ]
    },
    {
     "name": "stderr",
     "output_type": "stream",
     "text": [
      "[Parallel(n_jobs=1)]: Using backend SequentialBackend with 1 concurrent workers.\n",
      "[Parallel(n_jobs=1)]: Done   1 out of   1 | elapsed:    0.0s remaining:    0.0s\n",
      "[Parallel(n_jobs=1)]: Done   2 out of   2 | elapsed:    0.1s remaining:    0.0s\n"
     ]
    },
    {
     "name": "stdout",
     "output_type": "stream",
     "text": [
      "[CV] ....................... max_depth=5, score=-10.298, total=   0.1s\n",
      "[CV] max_depth=5 .....................................................\n",
      "[CV] ........................ max_depth=5, score=-9.877, total=   0.1s\n",
      "[CV] max_depth=5 .....................................................\n",
      "[CV] ........................ max_depth=5, score=-9.215, total=   0.1s\n",
      "[CV] max_depth=14 ....................................................\n",
      "[CV] ....................... max_depth=14, score=-9.971, total=   0.1s\n",
      "[CV] max_depth=14 ....................................................\n",
      "[CV] ....................... max_depth=14, score=-9.558, total=   0.1s\n",
      "[CV] max_depth=14 ....................................................\n",
      "[CV] ...................... max_depth=14, score=-10.399, total=   0.1s\n",
      "[CV] max_depth=14 ....................................................\n",
      "[CV] ....................... max_depth=14, score=-9.946, total=   0.1s\n",
      "[CV] max_depth=14 ....................................................\n",
      "[CV] ....................... max_depth=14, score=-9.372, total=   0.1s\n"
     ]
    },
    {
     "name": "stderr",
     "output_type": "stream",
     "text": [
      "[Parallel(n_jobs=1)]: Done  10 out of  10 | elapsed:    1.0s finished\n"
     ]
    },
    {
     "data": {
      "text/plain": [
       "GridSearchCV(cv=5,\n",
       "             estimator=XGBRegressor(base_score=None, booster=None,\n",
       "                                    colsample_bylevel=None,\n",
       "                                    colsample_bynode=None,\n",
       "                                    colsample_bytree=None, gamma=None,\n",
       "                                    gpu_id=None, importance_type='gain',\n",
       "                                    interaction_constraints=None,\n",
       "                                    learning_rate=None, max_delta_step=None,\n",
       "                                    max_depth=None, min_child_weight=None,\n",
       "                                    missing=nan, monotone_constraints=None,\n",
       "                                    n_estimators=100, n_jobs=None,\n",
       "                                    num_parallel_tree=None, random_state=42,\n",
       "                                    reg_alpha=None, reg_lambda=None,\n",
       "                                    scale_pos_weight=None, subsample=None,\n",
       "                                    tree_method=None, validate_parameters=None,\n",
       "                                    verbosity=None),\n",
       "             param_grid={'max_depth': [5, 14]},\n",
       "             scoring='neg_mean_absolute_error', verbose=3)"
      ]
     },
     "execution_count": 38,
     "metadata": {},
     "output_type": "execute_result"
    }
   ],
   "source": [
    "gs.fit(X_train_imp_df, y_train)"
   ]
  },
  {
   "cell_type": "code",
   "execution_count": 39,
   "metadata": {},
   "outputs": [
    {
     "data": {
      "text/plain": [
       "GridSearchCV(cv=5,\n",
       "             estimator=XGBRegressor(base_score=None, booster=None,\n",
       "                                    colsample_bylevel=None,\n",
       "                                    colsample_bynode=None,\n",
       "                                    colsample_bytree=None, gamma=None,\n",
       "                                    gpu_id=None, importance_type='gain',\n",
       "                                    interaction_constraints=None,\n",
       "                                    learning_rate=None, max_delta_step=None,\n",
       "                                    max_depth=None, min_child_weight=None,\n",
       "                                    missing=nan, monotone_constraints=None,\n",
       "                                    n_estimators=100, n_jobs=None,\n",
       "                                    num_parallel_tree=None, random_state=42,\n",
       "                                    reg_alpha=None, reg_lambda=None,\n",
       "                                    scale_pos_weight=None, subsample=None,\n",
       "                                    tree_method=None, validate_parameters=None,\n",
       "                                    verbosity=None),\n",
       "             param_grid={'max_depth': [5, 14]},\n",
       "             scoring='neg_mean_absolute_error', verbose=3)"
      ]
     },
     "execution_count": 39,
     "metadata": {},
     "output_type": "execute_result"
    }
   ],
   "source": [
    "GridSearchCV(xgb_regres, param_grid, cv=5, scoring='neg_root_mean_squared_error', verbose=3)"
   ]
  },
  {
   "cell_type": "code",
   "execution_count": 40,
   "metadata": {},
   "outputs": [
    {
     "name": "stdout",
     "output_type": "stream",
     "text": [
      "Fitting 5 folds for each of 2 candidates, totalling 10 fits\n",
      "[CV] max_depth=5 .....................................................\n",
      "[CV] ........................ max_depth=5, score=-9.874, total=   0.1s\n",
      "[CV] max_depth=5 .....................................................\n",
      "[CV] ........................ max_depth=5, score=-9.418, total=   0.1s\n",
      "[CV] max_depth=5 .....................................................\n"
     ]
    },
    {
     "name": "stderr",
     "output_type": "stream",
     "text": [
      "[Parallel(n_jobs=1)]: Using backend SequentialBackend with 1 concurrent workers.\n",
      "[Parallel(n_jobs=1)]: Done   1 out of   1 | elapsed:    0.0s remaining:    0.0s\n",
      "[Parallel(n_jobs=1)]: Done   2 out of   2 | elapsed:    0.1s remaining:    0.0s\n"
     ]
    },
    {
     "name": "stdout",
     "output_type": "stream",
     "text": [
      "[CV] ....................... max_depth=5, score=-10.298, total=   0.1s\n",
      "[CV] max_depth=5 .....................................................\n",
      "[CV] ........................ max_depth=5, score=-9.877, total=   0.1s\n",
      "[CV] max_depth=5 .....................................................\n",
      "[CV] ........................ max_depth=5, score=-9.215, total=   0.1s\n",
      "[CV] max_depth=14 ....................................................\n",
      "[CV] ....................... max_depth=14, score=-9.971, total=   0.1s\n",
      "[CV] max_depth=14 ....................................................\n",
      "[CV] ....................... max_depth=14, score=-9.558, total=   0.1s\n",
      "[CV] max_depth=14 ....................................................\n",
      "[CV] ...................... max_depth=14, score=-10.399, total=   0.1s\n",
      "[CV] max_depth=14 ....................................................\n",
      "[CV] ....................... max_depth=14, score=-9.946, total=   0.1s\n",
      "[CV] max_depth=14 ....................................................\n",
      "[CV] ....................... max_depth=14, score=-9.372, total=   0.1s\n"
     ]
    },
    {
     "name": "stderr",
     "output_type": "stream",
     "text": [
      "[Parallel(n_jobs=1)]: Done  10 out of  10 | elapsed:    0.9s finished\n"
     ]
    },
    {
     "data": {
      "text/plain": [
       "GridSearchCV(cv=5,\n",
       "             estimator=XGBRegressor(base_score=None, booster=None,\n",
       "                                    colsample_bylevel=None,\n",
       "                                    colsample_bynode=None,\n",
       "                                    colsample_bytree=None, gamma=None,\n",
       "                                    gpu_id=None, importance_type='gain',\n",
       "                                    interaction_constraints=None,\n",
       "                                    learning_rate=None, max_delta_step=None,\n",
       "                                    max_depth=None, min_child_weight=None,\n",
       "                                    missing=nan, monotone_constraints=None,\n",
       "                                    n_estimators=100, n_jobs=None,\n",
       "                                    num_parallel_tree=None, random_state=42,\n",
       "                                    reg_alpha=None, reg_lambda=None,\n",
       "                                    scale_pos_weight=None, subsample=None,\n",
       "                                    tree_method=None, validate_parameters=None,\n",
       "                                    verbosity=None),\n",
       "             param_grid={'max_depth': [5, 14]},\n",
       "             scoring='neg_mean_absolute_error', verbose=3)"
      ]
     },
     "execution_count": 40,
     "metadata": {},
     "output_type": "execute_result"
    }
   ],
   "source": [
    "gs.fit(X_train_imp_df, y_train)"
   ]
  },
  {
   "cell_type": "code",
   "execution_count": 41,
   "metadata": {},
   "outputs": [
    {
     "data": {
      "text/plain": [
       "GridSearchCV(cv=5,\n",
       "             estimator=XGBRegressor(base_score=None, booster=None,\n",
       "                                    colsample_bylevel=None,\n",
       "                                    colsample_bynode=None,\n",
       "                                    colsample_bytree=None, gamma=None,\n",
       "                                    gpu_id=None, importance_type='gain',\n",
       "                                    interaction_constraints=None,\n",
       "                                    learning_rate=None, max_delta_step=None,\n",
       "                                    max_depth=None, min_child_weight=None,\n",
       "                                    missing=nan, monotone_constraints=None,\n",
       "                                    n_estimators=100, n_jobs=None,\n",
       "                                    num_parallel_tree=None, random_state=42,\n",
       "                                    reg_alpha=None, reg_lambda=None,\n",
       "                                    scale_pos_weight=None, subsample=None,\n",
       "                                    tree_method=None, validate_parameters=None,\n",
       "                                    verbosity=None),\n",
       "             param_grid={'max_depth': [5, 14]},\n",
       "             scoring='neg_mean_squared_log_error', verbose=3)"
      ]
     },
     "execution_count": 41,
     "metadata": {},
     "output_type": "execute_result"
    }
   ],
   "source": [
    "GridSearchCV(xgb_regres, param_grid, cv=5, scoring='neg_mean_squared_log_error', verbose=3)"
   ]
  },
  {
   "cell_type": "code",
   "execution_count": 42,
   "metadata": {},
   "outputs": [
    {
     "name": "stdout",
     "output_type": "stream",
     "text": [
      "Fitting 5 folds for each of 2 candidates, totalling 10 fits\n",
      "[CV] max_depth=5 .....................................................\n",
      "[CV] ........................ max_depth=5, score=-9.874, total=   0.1s\n",
      "[CV] max_depth=5 .....................................................\n",
      "[CV] ........................ max_depth=5, score=-9.418, total=   0.1s\n",
      "[CV] max_depth=5 .....................................................\n"
     ]
    },
    {
     "name": "stderr",
     "output_type": "stream",
     "text": [
      "[Parallel(n_jobs=1)]: Using backend SequentialBackend with 1 concurrent workers.\n",
      "[Parallel(n_jobs=1)]: Done   1 out of   1 | elapsed:    0.0s remaining:    0.0s\n",
      "[Parallel(n_jobs=1)]: Done   2 out of   2 | elapsed:    0.0s remaining:    0.0s\n"
     ]
    },
    {
     "name": "stdout",
     "output_type": "stream",
     "text": [
      "[CV] ....................... max_depth=5, score=-10.298, total=   0.1s\n",
      "[CV] max_depth=5 .....................................................\n",
      "[CV] ........................ max_depth=5, score=-9.877, total=   0.1s\n",
      "[CV] max_depth=5 .....................................................\n",
      "[CV] ........................ max_depth=5, score=-9.215, total=   0.1s\n",
      "[CV] max_depth=14 ....................................................\n",
      "[CV] ....................... max_depth=14, score=-9.971, total=   0.1s\n",
      "[CV] max_depth=14 ....................................................\n",
      "[CV] ....................... max_depth=14, score=-9.558, total=   0.1s\n",
      "[CV] max_depth=14 ....................................................\n",
      "[CV] ...................... max_depth=14, score=-10.399, total=   0.1s\n",
      "[CV] max_depth=14 ....................................................\n",
      "[CV] ....................... max_depth=14, score=-9.946, total=   0.1s\n",
      "[CV] max_depth=14 ....................................................\n",
      "[CV] ....................... max_depth=14, score=-9.372, total=   0.1s\n"
     ]
    },
    {
     "name": "stderr",
     "output_type": "stream",
     "text": [
      "[Parallel(n_jobs=1)]: Done  10 out of  10 | elapsed:    0.8s finished\n"
     ]
    },
    {
     "data": {
      "text/plain": [
       "GridSearchCV(cv=5,\n",
       "             estimator=XGBRegressor(base_score=None, booster=None,\n",
       "                                    colsample_bylevel=None,\n",
       "                                    colsample_bynode=None,\n",
       "                                    colsample_bytree=None, gamma=None,\n",
       "                                    gpu_id=None, importance_type='gain',\n",
       "                                    interaction_constraints=None,\n",
       "                                    learning_rate=None, max_delta_step=None,\n",
       "                                    max_depth=None, min_child_weight=None,\n",
       "                                    missing=nan, monotone_constraints=None,\n",
       "                                    n_estimators=100, n_jobs=None,\n",
       "                                    num_parallel_tree=None, random_state=42,\n",
       "                                    reg_alpha=None, reg_lambda=None,\n",
       "                                    scale_pos_weight=None, subsample=None,\n",
       "                                    tree_method=None, validate_parameters=None,\n",
       "                                    verbosity=None),\n",
       "             param_grid={'max_depth': [5, 14]},\n",
       "             scoring='neg_mean_absolute_error', verbose=3)"
      ]
     },
     "execution_count": 42,
     "metadata": {},
     "output_type": "execute_result"
    }
   ],
   "source": [
    "gs.fit(X_train_imp_df, y_train)"
   ]
  },
  {
   "cell_type": "code",
   "execution_count": 43,
   "metadata": {},
   "outputs": [
    {
     "data": {
      "text/plain": [
       "GridSearchCV(cv=5,\n",
       "             estimator=XGBRegressor(base_score=None, booster=None,\n",
       "                                    colsample_bylevel=None,\n",
       "                                    colsample_bynode=None,\n",
       "                                    colsample_bytree=None, gamma=None,\n",
       "                                    gpu_id=None, importance_type='gain',\n",
       "                                    interaction_constraints=None,\n",
       "                                    learning_rate=None, max_delta_step=None,\n",
       "                                    max_depth=None, min_child_weight=None,\n",
       "                                    missing=nan, monotone_constraints=None,\n",
       "                                    n_estimators=100, n_jobs=None,\n",
       "                                    num_parallel_tree=None, random_state=42,\n",
       "                                    reg_alpha=None, reg_lambda=None,\n",
       "                                    scale_pos_weight=None, subsample=None,\n",
       "                                    tree_method=None, validate_parameters=None,\n",
       "                                    verbosity=None),\n",
       "             param_grid={'max_depth': [5, 14]},\n",
       "             scoring='neg_median_absolute_error', verbose=3)"
      ]
     },
     "execution_count": 43,
     "metadata": {},
     "output_type": "execute_result"
    }
   ],
   "source": [
    "GridSearchCV(xgb_regres, param_grid, cv=5, scoring='neg_median_absolute_error', verbose=3)"
   ]
  },
  {
   "cell_type": "code",
   "execution_count": 44,
   "metadata": {},
   "outputs": [
    {
     "name": "stdout",
     "output_type": "stream",
     "text": [
      "Fitting 5 folds for each of 2 candidates, totalling 10 fits\n",
      "[CV] max_depth=5 .....................................................\n",
      "[CV] ........................ max_depth=5, score=-9.874, total=   0.1s\n",
      "[CV] max_depth=5 .....................................................\n",
      "[CV] ........................ max_depth=5, score=-9.418, total=   0.1s\n",
      "[CV] max_depth=5 .....................................................\n",
      "[CV] ....................... max_depth=5, score=-10.298, total=   0.1s"
     ]
    },
    {
     "name": "stderr",
     "output_type": "stream",
     "text": [
      "[Parallel(n_jobs=1)]: Using backend SequentialBackend with 1 concurrent workers.\n",
      "[Parallel(n_jobs=1)]: Done   1 out of   1 | elapsed:    0.0s remaining:    0.0s\n",
      "[Parallel(n_jobs=1)]: Done   2 out of   2 | elapsed:    0.0s remaining:    0.0s\n"
     ]
    },
    {
     "name": "stdout",
     "output_type": "stream",
     "text": [
      "\n",
      "[CV] max_depth=5 .....................................................\n",
      "[CV] ........................ max_depth=5, score=-9.877, total=   0.1s\n",
      "[CV] max_depth=5 .....................................................\n",
      "[CV] ........................ max_depth=5, score=-9.215, total=   0.1s\n",
      "[CV] max_depth=14 ....................................................\n",
      "[CV] ....................... max_depth=14, score=-9.971, total=   0.1s\n",
      "[CV] max_depth=14 ....................................................\n",
      "[CV] ....................... max_depth=14, score=-9.558, total=   0.1s\n",
      "[CV] max_depth=14 ....................................................\n",
      "[CV] ...................... max_depth=14, score=-10.399, total=   0.1s\n",
      "[CV] max_depth=14 ....................................................\n",
      "[CV] ....................... max_depth=14, score=-9.946, total=   0.1s\n",
      "[CV] max_depth=14 ....................................................\n",
      "[CV] ....................... max_depth=14, score=-9.372, total=   0.1s\n"
     ]
    },
    {
     "name": "stderr",
     "output_type": "stream",
     "text": [
      "[Parallel(n_jobs=1)]: Done  10 out of  10 | elapsed:    0.8s finished\n"
     ]
    },
    {
     "data": {
      "text/plain": [
       "GridSearchCV(cv=5,\n",
       "             estimator=XGBRegressor(base_score=None, booster=None,\n",
       "                                    colsample_bylevel=None,\n",
       "                                    colsample_bynode=None,\n",
       "                                    colsample_bytree=None, gamma=None,\n",
       "                                    gpu_id=None, importance_type='gain',\n",
       "                                    interaction_constraints=None,\n",
       "                                    learning_rate=None, max_delta_step=None,\n",
       "                                    max_depth=None, min_child_weight=None,\n",
       "                                    missing=nan, monotone_constraints=None,\n",
       "                                    n_estimators=100, n_jobs=None,\n",
       "                                    num_parallel_tree=None, random_state=42,\n",
       "                                    reg_alpha=None, reg_lambda=None,\n",
       "                                    scale_pos_weight=None, subsample=None,\n",
       "                                    tree_method=None, validate_parameters=None,\n",
       "                                    verbosity=None),\n",
       "             param_grid={'max_depth': [5, 14]},\n",
       "             scoring='neg_mean_absolute_error', verbose=3)"
      ]
     },
     "execution_count": 44,
     "metadata": {},
     "output_type": "execute_result"
    }
   ],
   "source": [
    "gs.fit(X_train_imp_df, y_train)"
   ]
  },
  {
   "cell_type": "code",
   "execution_count": 45,
   "metadata": {},
   "outputs": [
    {
     "data": {
      "text/plain": [
       "GridSearchCV(cv=5,\n",
       "             estimator=XGBRegressor(base_score=None, booster=None,\n",
       "                                    colsample_bylevel=None,\n",
       "                                    colsample_bynode=None,\n",
       "                                    colsample_bytree=None, gamma=None,\n",
       "                                    gpu_id=None, importance_type='gain',\n",
       "                                    interaction_constraints=None,\n",
       "                                    learning_rate=None, max_delta_step=None,\n",
       "                                    max_depth=None, min_child_weight=None,\n",
       "                                    missing=nan, monotone_constraints=None,\n",
       "                                    n_estimators=100, n_jobs=None,\n",
       "                                    num_parallel_tree=None, random_state=42,\n",
       "                                    reg_alpha=None, reg_lambda=None,\n",
       "                                    scale_pos_weight=None, subsample=None,\n",
       "                                    tree_method=None, validate_parameters=None,\n",
       "                                    verbosity=None),\n",
       "             param_grid={'max_depth': [5, 14]}, scoring='r2', verbose=3)"
      ]
     },
     "execution_count": 45,
     "metadata": {},
     "output_type": "execute_result"
    }
   ],
   "source": [
    "GridSearchCV(xgb_regres, param_grid, cv=5, scoring='r2', verbose=3)"
   ]
  },
  {
   "cell_type": "code",
   "execution_count": 46,
   "metadata": {},
   "outputs": [
    {
     "name": "stdout",
     "output_type": "stream",
     "text": [
      "Fitting 5 folds for each of 2 candidates, totalling 10 fits\n",
      "[CV] max_depth=5 .....................................................\n",
      "[CV] ........................ max_depth=5, score=-9.874, total=   0.1s\n",
      "[CV] max_depth=5 .....................................................\n",
      "[CV] ........................ max_depth=5, score=-9.418, total=   0.1s\n",
      "[CV] max_depth=5 .....................................................\n",
      "[CV] ....................... max_depth=5, score=-10.298, total=   0.1s"
     ]
    },
    {
     "name": "stderr",
     "output_type": "stream",
     "text": [
      "[Parallel(n_jobs=1)]: Using backend SequentialBackend with 1 concurrent workers.\n",
      "[Parallel(n_jobs=1)]: Done   1 out of   1 | elapsed:    0.0s remaining:    0.0s\n",
      "[Parallel(n_jobs=1)]: Done   2 out of   2 | elapsed:    0.0s remaining:    0.0s\n"
     ]
    },
    {
     "name": "stdout",
     "output_type": "stream",
     "text": [
      "\n",
      "[CV] max_depth=5 .....................................................\n",
      "[CV] ........................ max_depth=5, score=-9.877, total=   0.1s\n",
      "[CV] max_depth=5 .....................................................\n",
      "[CV] ........................ max_depth=5, score=-9.215, total=   0.1s\n",
      "[CV] max_depth=14 ....................................................\n",
      "[CV] ....................... max_depth=14, score=-9.971, total=   0.1s\n",
      "[CV] max_depth=14 ....................................................\n",
      "[CV] ....................... max_depth=14, score=-9.558, total=   0.1s\n",
      "[CV] max_depth=14 ....................................................\n",
      "[CV] ...................... max_depth=14, score=-10.399, total=   0.1s\n",
      "[CV] max_depth=14 ....................................................\n",
      "[CV] ....................... max_depth=14, score=-9.946, total=   0.1s\n",
      "[CV] max_depth=14 ....................................................\n",
      "[CV] ....................... max_depth=14, score=-9.372, total=   0.1s\n"
     ]
    },
    {
     "name": "stderr",
     "output_type": "stream",
     "text": [
      "[Parallel(n_jobs=1)]: Done  10 out of  10 | elapsed:    0.8s finished\n"
     ]
    },
    {
     "data": {
      "text/plain": [
       "GridSearchCV(cv=5,\n",
       "             estimator=XGBRegressor(base_score=None, booster=None,\n",
       "                                    colsample_bylevel=None,\n",
       "                                    colsample_bynode=None,\n",
       "                                    colsample_bytree=None, gamma=None,\n",
       "                                    gpu_id=None, importance_type='gain',\n",
       "                                    interaction_constraints=None,\n",
       "                                    learning_rate=None, max_delta_step=None,\n",
       "                                    max_depth=None, min_child_weight=None,\n",
       "                                    missing=nan, monotone_constraints=None,\n",
       "                                    n_estimators=100, n_jobs=None,\n",
       "                                    num_parallel_tree=None, random_state=42,\n",
       "                                    reg_alpha=None, reg_lambda=None,\n",
       "                                    scale_pos_weight=None, subsample=None,\n",
       "                                    tree_method=None, validate_parameters=None,\n",
       "                                    verbosity=None),\n",
       "             param_grid={'max_depth': [5, 14]},\n",
       "             scoring='neg_mean_absolute_error', verbose=3)"
      ]
     },
     "execution_count": 46,
     "metadata": {},
     "output_type": "execute_result"
    }
   ],
   "source": [
    "gs.fit(X_train_imp_df, y_train)"
   ]
  },
  {
   "cell_type": "code",
   "execution_count": 47,
   "metadata": {},
   "outputs": [
    {
     "data": {
      "text/plain": [
       "GridSearchCV(cv=5,\n",
       "             estimator=XGBRegressor(base_score=None, booster=None,\n",
       "                                    colsample_bylevel=None,\n",
       "                                    colsample_bynode=None,\n",
       "                                    colsample_bytree=None, gamma=None,\n",
       "                                    gpu_id=None, importance_type='gain',\n",
       "                                    interaction_constraints=None,\n",
       "                                    learning_rate=None, max_delta_step=None,\n",
       "                                    max_depth=None, min_child_weight=None,\n",
       "                                    missing=nan, monotone_constraints=None,\n",
       "                                    n_estimators=100, n_jobs=None,\n",
       "                                    num_parallel_tree=None, random_state=42,\n",
       "                                    reg_alpha=None, reg_lambda=None,\n",
       "                                    scale_pos_weight=None, subsample=None,\n",
       "                                    tree_method=None, validate_parameters=None,\n",
       "                                    verbosity=None),\n",
       "             param_grid={'max_depth': [5, 14]},\n",
       "             scoring='neg_mean_poisson_deviance', verbose=3)"
      ]
     },
     "execution_count": 47,
     "metadata": {},
     "output_type": "execute_result"
    }
   ],
   "source": [
    "GridSearchCV(xgb_regres, param_grid, cv=5, scoring='neg_mean_poisson_deviance', verbose=3)"
   ]
  },
  {
   "cell_type": "code",
   "execution_count": 48,
   "metadata": {},
   "outputs": [
    {
     "name": "stdout",
     "output_type": "stream",
     "text": [
      "Fitting 5 folds for each of 2 candidates, totalling 10 fits\n",
      "[CV] max_depth=5 .....................................................\n"
     ]
    },
    {
     "name": "stderr",
     "output_type": "stream",
     "text": [
      "[Parallel(n_jobs=1)]: Using backend SequentialBackend with 1 concurrent workers.\n"
     ]
    },
    {
     "name": "stdout",
     "output_type": "stream",
     "text": [
      "[CV] ........................ max_depth=5, score=-9.874, total=   0.3s\n",
      "[CV] max_depth=5 .....................................................\n"
     ]
    },
    {
     "name": "stderr",
     "output_type": "stream",
     "text": [
      "[Parallel(n_jobs=1)]: Done   1 out of   1 | elapsed:    0.2s remaining:    0.0s\n"
     ]
    },
    {
     "name": "stdout",
     "output_type": "stream",
     "text": [
      "[CV] ........................ max_depth=5, score=-9.418, total=   0.3s\n",
      "[CV] max_depth=5 .....................................................\n"
     ]
    },
    {
     "name": "stderr",
     "output_type": "stream",
     "text": [
      "[Parallel(n_jobs=1)]: Done   2 out of   2 | elapsed:    0.5s remaining:    0.0s\n"
     ]
    },
    {
     "name": "stdout",
     "output_type": "stream",
     "text": [
      "[CV] ....................... max_depth=5, score=-10.298, total=   0.3s\n",
      "[CV] max_depth=5 .....................................................\n",
      "[CV] ........................ max_depth=5, score=-9.877, total=   0.3s\n",
      "[CV] max_depth=5 .....................................................\n",
      "[CV] ........................ max_depth=5, score=-9.215, total=   0.3s\n",
      "[CV] max_depth=14 ....................................................\n",
      "[CV] ....................... max_depth=14, score=-9.971, total=   0.4s\n",
      "[CV] max_depth=14 ....................................................\n",
      "[CV] ....................... max_depth=14, score=-9.558, total=   0.4s\n",
      "[CV] max_depth=14 ....................................................\n",
      "[CV] ...................... max_depth=14, score=-10.399, total=   0.4s\n",
      "[CV] max_depth=14 ....................................................\n",
      "[CV] ....................... max_depth=14, score=-9.946, total=   0.4s\n",
      "[CV] max_depth=14 ....................................................\n",
      "[CV] ....................... max_depth=14, score=-9.372, total=   0.4s\n"
     ]
    },
    {
     "name": "stderr",
     "output_type": "stream",
     "text": [
      "[Parallel(n_jobs=1)]: Done  10 out of  10 | elapsed:    3.4s finished\n"
     ]
    },
    {
     "data": {
      "text/plain": [
       "GridSearchCV(cv=5,\n",
       "             estimator=XGBRegressor(base_score=None, booster=None,\n",
       "                                    colsample_bylevel=None,\n",
       "                                    colsample_bynode=None,\n",
       "                                    colsample_bytree=None, gamma=None,\n",
       "                                    gpu_id=None, importance_type='gain',\n",
       "                                    interaction_constraints=None,\n",
       "                                    learning_rate=None, max_delta_step=None,\n",
       "                                    max_depth=None, min_child_weight=None,\n",
       "                                    missing=nan, monotone_constraints=None,\n",
       "                                    n_estimators=100, n_jobs=None,\n",
       "                                    num_parallel_tree=None, random_state=42,\n",
       "                                    reg_alpha=None, reg_lambda=None,\n",
       "                                    scale_pos_weight=None, subsample=None,\n",
       "                                    tree_method=None, validate_parameters=None,\n",
       "                                    verbosity=None),\n",
       "             param_grid={'max_depth': [5, 14]},\n",
       "             scoring='neg_mean_absolute_error', verbose=3)"
      ]
     },
     "execution_count": 48,
     "metadata": {},
     "output_type": "execute_result"
    }
   ],
   "source": [
    "gs.fit(X_train_imp_df, y_train)"
   ]
  },
  {
   "cell_type": "code",
   "execution_count": 51,
   "metadata": {},
   "outputs": [
    {
     "data": {
      "text/plain": [
       "GridSearchCV(cv=5,\n",
       "             estimator=XGBRegressor(base_score=None, booster=None,\n",
       "                                    colsample_bylevel=None,\n",
       "                                    colsample_bynode=None,\n",
       "                                    colsample_bytree=None, gamma=None,\n",
       "                                    gpu_id=None, importance_type='gain',\n",
       "                                    interaction_constraints=None,\n",
       "                                    learning_rate=None, max_delta_step=None,\n",
       "                                    max_depth=None, min_child_weight=None,\n",
       "                                    missing=nan, monotone_constraints=None,\n",
       "                                    n_estimators=100, n_jobs=None,\n",
       "                                    num_parallel_tree=None, random_state=42,\n",
       "                                    reg_alpha=None, reg_lambda=None,\n",
       "                                    scale_pos_weight=None, subsample=None,\n",
       "                                    tree_method=None, validate_parameters=None,\n",
       "                                    verbosity=None),\n",
       "             param_grid={'max_depth': [5, 14]},\n",
       "             scoring='neg_mean_gamma_deviance', verbose=3)"
      ]
     },
     "execution_count": 51,
     "metadata": {},
     "output_type": "execute_result"
    }
   ],
   "source": [
    "GridSearchCV(xgb_regres, param_grid, cv=5, scoring='neg_mean_gamma_deviance', verbose=3)"
   ]
  },
  {
   "cell_type": "code",
   "execution_count": 52,
   "metadata": {},
   "outputs": [
    {
     "name": "stdout",
     "output_type": "stream",
     "text": [
      "Fitting 5 folds for each of 2 candidates, totalling 10 fits\n",
      "[CV] max_depth=5 .....................................................\n"
     ]
    },
    {
     "name": "stderr",
     "output_type": "stream",
     "text": [
      "[Parallel(n_jobs=1)]: Using backend SequentialBackend with 1 concurrent workers.\n"
     ]
    },
    {
     "name": "stdout",
     "output_type": "stream",
     "text": [
      "[CV] ........................ max_depth=5, score=-9.874, total=   0.3s\n",
      "[CV] max_depth=5 .....................................................\n"
     ]
    },
    {
     "name": "stderr",
     "output_type": "stream",
     "text": [
      "[Parallel(n_jobs=1)]: Done   1 out of   1 | elapsed:    0.2s remaining:    0.0s\n"
     ]
    },
    {
     "name": "stdout",
     "output_type": "stream",
     "text": [
      "[CV] ........................ max_depth=5, score=-9.418, total=   0.3s\n",
      "[CV] max_depth=5 .....................................................\n"
     ]
    },
    {
     "name": "stderr",
     "output_type": "stream",
     "text": [
      "[Parallel(n_jobs=1)]: Done   2 out of   2 | elapsed:    0.4s remaining:    0.0s\n"
     ]
    },
    {
     "name": "stdout",
     "output_type": "stream",
     "text": [
      "[CV] ....................... max_depth=5, score=-10.298, total=   0.3s\n",
      "[CV] max_depth=5 .....................................................\n",
      "[CV] ........................ max_depth=5, score=-9.877, total=   0.3s\n",
      "[CV] max_depth=5 .....................................................\n",
      "[CV] ........................ max_depth=5, score=-9.215, total=   0.3s\n",
      "[CV] max_depth=14 ....................................................\n",
      "[CV] ....................... max_depth=14, score=-9.971, total=   0.4s\n",
      "[CV] max_depth=14 ....................................................\n",
      "[CV] ....................... max_depth=14, score=-9.558, total=   0.4s\n",
      "[CV] max_depth=14 ....................................................\n",
      "[CV] ...................... max_depth=14, score=-10.399, total=   0.4s\n",
      "[CV] max_depth=14 ....................................................\n",
      "[CV] ....................... max_depth=14, score=-9.946, total=   0.4s\n",
      "[CV] max_depth=14 ....................................................\n",
      "[CV] ....................... max_depth=14, score=-9.372, total=   0.4s\n"
     ]
    },
    {
     "name": "stderr",
     "output_type": "stream",
     "text": [
      "[Parallel(n_jobs=1)]: Done  10 out of  10 | elapsed:    3.4s finished\n"
     ]
    },
    {
     "data": {
      "text/plain": [
       "GridSearchCV(cv=5,\n",
       "             estimator=XGBRegressor(base_score=None, booster=None,\n",
       "                                    colsample_bylevel=None,\n",
       "                                    colsample_bynode=None,\n",
       "                                    colsample_bytree=None, gamma=None,\n",
       "                                    gpu_id=None, importance_type='gain',\n",
       "                                    interaction_constraints=None,\n",
       "                                    learning_rate=None, max_delta_step=None,\n",
       "                                    max_depth=None, min_child_weight=None,\n",
       "                                    missing=nan, monotone_constraints=None,\n",
       "                                    n_estimators=100, n_jobs=None,\n",
       "                                    num_parallel_tree=None, random_state=42,\n",
       "                                    reg_alpha=None, reg_lambda=None,\n",
       "                                    scale_pos_weight=None, subsample=None,\n",
       "                                    tree_method=None, validate_parameters=None,\n",
       "                                    verbosity=None),\n",
       "             param_grid={'max_depth': [5, 14]},\n",
       "             scoring='neg_mean_absolute_error', verbose=3)"
      ]
     },
     "execution_count": 52,
     "metadata": {},
     "output_type": "execute_result"
    }
   ],
   "source": [
    "gs.fit(X_train_imp_df, y_train)"
   ]
  },
  {
   "cell_type": "code",
   "execution_count": 53,
   "metadata": {},
   "outputs": [
    {
     "data": {
      "text/plain": [
       "GridSearchCV(cv=5,\n",
       "             estimator=XGBRegressor(base_score=None, booster=None,\n",
       "                                    colsample_bylevel=None,\n",
       "                                    colsample_bynode=None,\n",
       "                                    colsample_bytree=None, gamma=None,\n",
       "                                    gpu_id=None, importance_type='gain',\n",
       "                                    interaction_constraints=None,\n",
       "                                    learning_rate=None, max_delta_step=None,\n",
       "                                    max_depth=None, min_child_weight=None,\n",
       "                                    missing=nan, monotone_constraints=None,\n",
       "                                    n_estimators=100, n_jobs=None,\n",
       "                                    num_parallel_tree=None, random_state=42,\n",
       "                                    reg_alpha=None, reg_lambda=None,\n",
       "                                    scale_pos_weight=None, subsample=None,\n",
       "                                    tree_method=None, validate_parameters=None,\n",
       "                                    verbosity=None),\n",
       "             param_grid={'max_depth': [5, 14]},\n",
       "             scoring='neg_mean_absolute_percentage_error', verbose=3)"
      ]
     },
     "execution_count": 53,
     "metadata": {},
     "output_type": "execute_result"
    }
   ],
   "source": [
    "GridSearchCV(xgb_regres, param_grid, cv=5, scoring='neg_mean_absolute_percentage_error', verbose=3)"
   ]
  },
  {
   "cell_type": "code",
   "execution_count": 54,
   "metadata": {},
   "outputs": [
    {
     "name": "stdout",
     "output_type": "stream",
     "text": [
      "Fitting 5 folds for each of 2 candidates, totalling 10 fits\n",
      "[CV] max_depth=5 .....................................................\n"
     ]
    },
    {
     "name": "stderr",
     "output_type": "stream",
     "text": [
      "[Parallel(n_jobs=1)]: Using backend SequentialBackend with 1 concurrent workers.\n"
     ]
    },
    {
     "name": "stdout",
     "output_type": "stream",
     "text": [
      "[CV] ........................ max_depth=5, score=-9.874, total=   0.3s\n",
      "[CV] max_depth=5 .....................................................\n"
     ]
    },
    {
     "name": "stderr",
     "output_type": "stream",
     "text": [
      "[Parallel(n_jobs=1)]: Done   1 out of   1 | elapsed:    0.2s remaining:    0.0s\n"
     ]
    },
    {
     "name": "stdout",
     "output_type": "stream",
     "text": [
      "[CV] ........................ max_depth=5, score=-9.418, total=   0.3s\n",
      "[CV] max_depth=5 .....................................................\n"
     ]
    },
    {
     "name": "stderr",
     "output_type": "stream",
     "text": [
      "[Parallel(n_jobs=1)]: Done   2 out of   2 | elapsed:    0.4s remaining:    0.0s\n"
     ]
    },
    {
     "name": "stdout",
     "output_type": "stream",
     "text": [
      "[CV] ....................... max_depth=5, score=-10.298, total=   0.3s\n",
      "[CV] max_depth=5 .....................................................\n",
      "[CV] ........................ max_depth=5, score=-9.877, total=   0.3s\n",
      "[CV] max_depth=5 .....................................................\n",
      "[CV] ........................ max_depth=5, score=-9.215, total=   0.3s\n",
      "[CV] max_depth=14 ....................................................\n",
      "[CV] ....................... max_depth=14, score=-9.971, total=   0.4s\n",
      "[CV] max_depth=14 ....................................................\n",
      "[CV] ....................... max_depth=14, score=-9.558, total=   0.4s\n",
      "[CV] max_depth=14 ....................................................\n",
      "[CV] ...................... max_depth=14, score=-10.399, total=   0.4s\n",
      "[CV] max_depth=14 ....................................................\n",
      "[CV] ....................... max_depth=14, score=-9.946, total=   0.4s\n",
      "[CV] max_depth=14 ....................................................\n",
      "[CV] ....................... max_depth=14, score=-9.372, total=   0.4s\n"
     ]
    },
    {
     "name": "stderr",
     "output_type": "stream",
     "text": [
      "[Parallel(n_jobs=1)]: Done  10 out of  10 | elapsed:    3.3s finished\n"
     ]
    },
    {
     "data": {
      "text/plain": [
       "GridSearchCV(cv=5,\n",
       "             estimator=XGBRegressor(base_score=None, booster=None,\n",
       "                                    colsample_bylevel=None,\n",
       "                                    colsample_bynode=None,\n",
       "                                    colsample_bytree=None, gamma=None,\n",
       "                                    gpu_id=None, importance_type='gain',\n",
       "                                    interaction_constraints=None,\n",
       "                                    learning_rate=None, max_delta_step=None,\n",
       "                                    max_depth=None, min_child_weight=None,\n",
       "                                    missing=nan, monotone_constraints=None,\n",
       "                                    n_estimators=100, n_jobs=None,\n",
       "                                    num_parallel_tree=None, random_state=42,\n",
       "                                    reg_alpha=None, reg_lambda=None,\n",
       "                                    scale_pos_weight=None, subsample=None,\n",
       "                                    tree_method=None, validate_parameters=None,\n",
       "                                    verbosity=None),\n",
       "             param_grid={'max_depth': [5, 14]},\n",
       "             scoring='neg_mean_absolute_error', verbose=3)"
      ]
     },
     "execution_count": 54,
     "metadata": {},
     "output_type": "execute_result"
    }
   ],
   "source": [
    "gs.fit(X_train_imp_df, y_train)"
   ]
  },
  {
   "cell_type": "code",
   "execution_count": 55,
   "metadata": {},
   "outputs": [
    {
     "data": {
      "text/plain": [
       "GridSearchCV(cv=5,\n",
       "             estimator=XGBRegressor(base_score=None, booster=None,\n",
       "                                    colsample_bylevel=None,\n",
       "                                    colsample_bynode=None,\n",
       "                                    colsample_bytree=None, gamma=None,\n",
       "                                    gpu_id=None, importance_type='gain',\n",
       "                                    interaction_constraints=None,\n",
       "                                    learning_rate=None, max_delta_step=None,\n",
       "                                    max_depth=None, min_child_weight=None,\n",
       "                                    missing=nan, monotone_constraints=None,\n",
       "                                    n_estimators=100, n_jobs=None,\n",
       "                                    num_parallel_tree=None, random_state=42,\n",
       "                                    reg_alpha=None, reg_lambda=None,\n",
       "                                    scale_pos_weight=None, subsample=None,\n",
       "                                    tree_method=None, validate_parameters=None,\n",
       "                                    verbosity=None),\n",
       "             param_grid={'max_depth': [5, 14]},\n",
       "             scoring='d2_absolute_error_score', verbose=3)"
      ]
     },
     "execution_count": 55,
     "metadata": {},
     "output_type": "execute_result"
    }
   ],
   "source": [
    "GridSearchCV(xgb_regres, param_grid, cv=5, scoring='d2_absolute_error_score', verbose=3)"
   ]
  },
  {
   "cell_type": "code",
   "execution_count": 56,
   "metadata": {},
   "outputs": [
    {
     "name": "stdout",
     "output_type": "stream",
     "text": [
      "Fitting 5 folds for each of 2 candidates, totalling 10 fits\n",
      "[CV] max_depth=5 .....................................................\n"
     ]
    },
    {
     "name": "stderr",
     "output_type": "stream",
     "text": [
      "[Parallel(n_jobs=1)]: Using backend SequentialBackend with 1 concurrent workers.\n"
     ]
    },
    {
     "name": "stdout",
     "output_type": "stream",
     "text": [
      "[CV] ........................ max_depth=5, score=-9.874, total=   0.3s\n",
      "[CV] max_depth=5 .....................................................\n"
     ]
    },
    {
     "name": "stderr",
     "output_type": "stream",
     "text": [
      "[Parallel(n_jobs=1)]: Done   1 out of   1 | elapsed:    0.2s remaining:    0.0s\n"
     ]
    },
    {
     "name": "stdout",
     "output_type": "stream",
     "text": [
      "[CV] ........................ max_depth=5, score=-9.418, total=   0.3s\n",
      "[CV] max_depth=5 .....................................................\n"
     ]
    },
    {
     "name": "stderr",
     "output_type": "stream",
     "text": [
      "[Parallel(n_jobs=1)]: Done   2 out of   2 | elapsed:    0.4s remaining:    0.0s\n"
     ]
    },
    {
     "name": "stdout",
     "output_type": "stream",
     "text": [
      "[CV] ....................... max_depth=5, score=-10.298, total=   0.2s\n",
      "[CV] max_depth=5 .....................................................\n",
      "[CV] ........................ max_depth=5, score=-9.877, total=   0.3s\n",
      "[CV] max_depth=5 .....................................................\n",
      "[CV] ........................ max_depth=5, score=-9.215, total=   0.3s\n",
      "[CV] max_depth=14 ....................................................\n",
      "[CV] ....................... max_depth=14, score=-9.971, total=   0.4s\n",
      "[CV] max_depth=14 ....................................................\n",
      "[CV] ....................... max_depth=14, score=-9.558, total=   0.4s\n",
      "[CV] max_depth=14 ....................................................\n",
      "[CV] ...................... max_depth=14, score=-10.399, total=   0.4s\n",
      "[CV] max_depth=14 ....................................................\n",
      "[CV] ....................... max_depth=14, score=-9.946, total=   0.4s\n",
      "[CV] max_depth=14 ....................................................\n",
      "[CV] ....................... max_depth=14, score=-9.372, total=   0.4s\n"
     ]
    },
    {
     "name": "stderr",
     "output_type": "stream",
     "text": [
      "[Parallel(n_jobs=1)]: Done  10 out of  10 | elapsed:    3.4s finished\n"
     ]
    },
    {
     "data": {
      "text/plain": [
       "GridSearchCV(cv=5,\n",
       "             estimator=XGBRegressor(base_score=None, booster=None,\n",
       "                                    colsample_bylevel=None,\n",
       "                                    colsample_bynode=None,\n",
       "                                    colsample_bytree=None, gamma=None,\n",
       "                                    gpu_id=None, importance_type='gain',\n",
       "                                    interaction_constraints=None,\n",
       "                                    learning_rate=None, max_delta_step=None,\n",
       "                                    max_depth=None, min_child_weight=None,\n",
       "                                    missing=nan, monotone_constraints=None,\n",
       "                                    n_estimators=100, n_jobs=None,\n",
       "                                    num_parallel_tree=None, random_state=42,\n",
       "                                    reg_alpha=None, reg_lambda=None,\n",
       "                                    scale_pos_weight=None, subsample=None,\n",
       "                                    tree_method=None, validate_parameters=None,\n",
       "                                    verbosity=None),\n",
       "             param_grid={'max_depth': [5, 14]},\n",
       "             scoring='neg_mean_absolute_error', verbose=3)"
      ]
     },
     "execution_count": 56,
     "metadata": {},
     "output_type": "execute_result"
    }
   ],
   "source": [
    "gs.fit(X_train_imp_df, y_train) "
   ]
  },
  {
   "cell_type": "code",
   "execution_count": 58,
   "metadata": {
    "scrolled": true
   },
   "outputs": [
    {
     "data": {
      "text/plain": [
       "GridSearchCV(cv=5,\n",
       "             estimator=XGBRegressor(base_score=None, booster=None,\n",
       "                                    colsample_bylevel=None,\n",
       "                                    colsample_bynode=None,\n",
       "                                    colsample_bytree=None, gamma=None,\n",
       "                                    gpu_id=None, importance_type='gain',\n",
       "                                    interaction_constraints=None,\n",
       "                                    learning_rate=None, max_delta_step=None,\n",
       "                                    max_depth=None, min_child_weight=None,\n",
       "                                    missing=nan, monotone_constraints=None,\n",
       "                                    n_estimators=100, n_jobs=None,\n",
       "                                    num_parallel_tree=None, random_state=42,\n",
       "                                    reg_alpha=None, reg_lambda=None,\n",
       "                                    scale_pos_weight=None, subsample=None,\n",
       "                                    tree_method=None, validate_parameters=None,\n",
       "                                    verbosity=None),\n",
       "             param_grid={'max_depth': [5, 14]}, scoring='d2_pinball_score',\n",
       "             verbose=3)"
      ]
     },
     "execution_count": 58,
     "metadata": {},
     "output_type": "execute_result"
    }
   ],
   "source": [
    "GridSearchCV(xgb_regres, param_grid, cv=5, scoring='d2_pinball_score', verbose=3)"
   ]
  },
  {
   "cell_type": "code",
   "execution_count": 59,
   "metadata": {},
   "outputs": [
    {
     "name": "stdout",
     "output_type": "stream",
     "text": [
      "Fitting 5 folds for each of 2 candidates, totalling 10 fits\n",
      "[CV] max_depth=5 .....................................................\n"
     ]
    },
    {
     "name": "stderr",
     "output_type": "stream",
     "text": [
      "[Parallel(n_jobs=1)]: Using backend SequentialBackend with 1 concurrent workers.\n"
     ]
    },
    {
     "name": "stdout",
     "output_type": "stream",
     "text": [
      "[CV] ........................ max_depth=5, score=-9.874, total=   0.3s\n",
      "[CV] max_depth=5 .....................................................\n"
     ]
    },
    {
     "name": "stderr",
     "output_type": "stream",
     "text": [
      "[Parallel(n_jobs=1)]: Done   1 out of   1 | elapsed:    0.2s remaining:    0.0s\n"
     ]
    },
    {
     "name": "stdout",
     "output_type": "stream",
     "text": [
      "[CV] ........................ max_depth=5, score=-9.418, total=   0.2s\n",
      "[CV] max_depth=5 .....................................................\n"
     ]
    },
    {
     "name": "stderr",
     "output_type": "stream",
     "text": [
      "[Parallel(n_jobs=1)]: Done   2 out of   2 | elapsed:    0.4s remaining:    0.0s\n"
     ]
    },
    {
     "name": "stdout",
     "output_type": "stream",
     "text": [
      "[CV] ....................... max_depth=5, score=-10.298, total=   0.2s\n",
      "[CV] max_depth=5 .....................................................\n",
      "[CV] ........................ max_depth=5, score=-9.877, total=   0.3s\n",
      "[CV] max_depth=5 .....................................................\n",
      "[CV] ........................ max_depth=5, score=-9.215, total=   0.3s\n",
      "[CV] max_depth=14 ....................................................\n",
      "[CV] ....................... max_depth=14, score=-9.971, total=   0.4s\n",
      "[CV] max_depth=14 ....................................................\n",
      "[CV] ....................... max_depth=14, score=-9.558, total=   0.4s\n",
      "[CV] max_depth=14 ....................................................\n",
      "[CV] ...................... max_depth=14, score=-10.399, total=   0.4s\n",
      "[CV] max_depth=14 ....................................................\n",
      "[CV] ....................... max_depth=14, score=-9.946, total=   0.4s\n",
      "[CV] max_depth=14 ....................................................\n",
      "[CV] ....................... max_depth=14, score=-9.372, total=   0.4s\n"
     ]
    },
    {
     "name": "stderr",
     "output_type": "stream",
     "text": [
      "[Parallel(n_jobs=1)]: Done  10 out of  10 | elapsed:    3.4s finished\n"
     ]
    },
    {
     "data": {
      "text/plain": [
       "GridSearchCV(cv=5,\n",
       "             estimator=XGBRegressor(base_score=None, booster=None,\n",
       "                                    colsample_bylevel=None,\n",
       "                                    colsample_bynode=None,\n",
       "                                    colsample_bytree=None, gamma=None,\n",
       "                                    gpu_id=None, importance_type='gain',\n",
       "                                    interaction_constraints=None,\n",
       "                                    learning_rate=None, max_delta_step=None,\n",
       "                                    max_depth=None, min_child_weight=None,\n",
       "                                    missing=nan, monotone_constraints=None,\n",
       "                                    n_estimators=100, n_jobs=None,\n",
       "                                    num_parallel_tree=None, random_state=42,\n",
       "                                    reg_alpha=None, reg_lambda=None,\n",
       "                                    scale_pos_weight=None, subsample=None,\n",
       "                                    tree_method=None, validate_parameters=None,\n",
       "                                    verbosity=None),\n",
       "             param_grid={'max_depth': [5, 14]},\n",
       "             scoring='neg_mean_absolute_error', verbose=3)"
      ]
     },
     "execution_count": 59,
     "metadata": {},
     "output_type": "execute_result"
    }
   ],
   "source": [
    "gs.fit(X_train_imp_df, y_train)"
   ]
  },
  {
   "cell_type": "code",
   "execution_count": 60,
   "metadata": {
    "scrolled": true
   },
   "outputs": [
    {
     "data": {
      "text/plain": [
       "GridSearchCV(cv=5,\n",
       "             estimator=XGBRegressor(base_score=None, booster=None,\n",
       "                                    colsample_bylevel=None,\n",
       "                                    colsample_bynode=None,\n",
       "                                    colsample_bytree=None, gamma=None,\n",
       "                                    gpu_id=None, importance_type='gain',\n",
       "                                    interaction_constraints=None,\n",
       "                                    learning_rate=None, max_delta_step=None,\n",
       "                                    max_depth=None, min_child_weight=None,\n",
       "                                    missing=nan, monotone_constraints=None,\n",
       "                                    n_estimators=100, n_jobs=None,\n",
       "                                    num_parallel_tree=None, random_state=42,\n",
       "                                    reg_alpha=None, reg_lambda=None,\n",
       "                                    scale_pos_weight=None, subsample=None,\n",
       "                                    tree_method=None, validate_parameters=None,\n",
       "                                    verbosity=None),\n",
       "             param_grid={'max_depth': [5, 14]}, scoring='d2_tweedie_score',\n",
       "             verbose=3)"
      ]
     },
     "execution_count": 60,
     "metadata": {},
     "output_type": "execute_result"
    }
   ],
   "source": [
    "GridSearchCV(xgb_regres, param_grid, cv=5, scoring='d2_tweedie_score', verbose=3)"
   ]
  },
  {
   "cell_type": "code",
   "execution_count": 61,
   "metadata": {},
   "outputs": [
    {
     "name": "stdout",
     "output_type": "stream",
     "text": [
      "Fitting 5 folds for each of 2 candidates, totalling 10 fits\n",
      "[CV] max_depth=5 .....................................................\n"
     ]
    },
    {
     "name": "stderr",
     "output_type": "stream",
     "text": [
      "[Parallel(n_jobs=1)]: Using backend SequentialBackend with 1 concurrent workers.\n"
     ]
    },
    {
     "name": "stdout",
     "output_type": "stream",
     "text": [
      "[CV] ........................ max_depth=5, score=-9.874, total=   0.3s\n",
      "[CV] max_depth=5 .....................................................\n"
     ]
    },
    {
     "name": "stderr",
     "output_type": "stream",
     "text": [
      "[Parallel(n_jobs=1)]: Done   1 out of   1 | elapsed:    0.2s remaining:    0.0s\n"
     ]
    },
    {
     "name": "stdout",
     "output_type": "stream",
     "text": [
      "[CV] ........................ max_depth=5, score=-9.418, total=   0.3s\n",
      "[CV] max_depth=5 .....................................................\n"
     ]
    },
    {
     "name": "stderr",
     "output_type": "stream",
     "text": [
      "[Parallel(n_jobs=1)]: Done   2 out of   2 | elapsed:    0.4s remaining:    0.0s\n"
     ]
    },
    {
     "name": "stdout",
     "output_type": "stream",
     "text": [
      "[CV] ....................... max_depth=5, score=-10.298, total=   0.3s\n",
      "[CV] max_depth=5 .....................................................\n",
      "[CV] ........................ max_depth=5, score=-9.877, total=   0.3s\n",
      "[CV] max_depth=5 .....................................................\n",
      "[CV] ........................ max_depth=5, score=-9.215, total=   0.3s\n",
      "[CV] max_depth=14 ....................................................\n",
      "[CV] ....................... max_depth=14, score=-9.971, total=   0.4s\n",
      "[CV] max_depth=14 ....................................................\n",
      "[CV] ....................... max_depth=14, score=-9.558, total=   0.4s\n",
      "[CV] max_depth=14 ....................................................\n",
      "[CV] ...................... max_depth=14, score=-10.399, total=   0.4s\n",
      "[CV] max_depth=14 ....................................................\n",
      "[CV] ....................... max_depth=14, score=-9.946, total=   0.4s\n",
      "[CV] max_depth=14 ....................................................\n",
      "[CV] ....................... max_depth=14, score=-9.372, total=   0.4s\n"
     ]
    },
    {
     "name": "stderr",
     "output_type": "stream",
     "text": [
      "[Parallel(n_jobs=1)]: Done  10 out of  10 | elapsed:    3.4s finished\n"
     ]
    },
    {
     "data": {
      "text/plain": [
       "GridSearchCV(cv=5,\n",
       "             estimator=XGBRegressor(base_score=None, booster=None,\n",
       "                                    colsample_bylevel=None,\n",
       "                                    colsample_bynode=None,\n",
       "                                    colsample_bytree=None, gamma=None,\n",
       "                                    gpu_id=None, importance_type='gain',\n",
       "                                    interaction_constraints=None,\n",
       "                                    learning_rate=None, max_delta_step=None,\n",
       "                                    max_depth=None, min_child_weight=None,\n",
       "                                    missing=nan, monotone_constraints=None,\n",
       "                                    n_estimators=100, n_jobs=None,\n",
       "                                    num_parallel_tree=None, random_state=42,\n",
       "                                    reg_alpha=None, reg_lambda=None,\n",
       "                                    scale_pos_weight=None, subsample=None,\n",
       "                                    tree_method=None, validate_parameters=None,\n",
       "                                    verbosity=None),\n",
       "             param_grid={'max_depth': [5, 14]},\n",
       "             scoring='neg_mean_absolute_error', verbose=3)"
      ]
     },
     "execution_count": 61,
     "metadata": {},
     "output_type": "execute_result"
    }
   ],
   "source": [
    "gs.fit(X_train_imp_df, y_train)"
   ]
  },
  {
   "cell_type": "code",
   "execution_count": 62,
   "metadata": {},
   "outputs": [
    {
     "data": {
      "text/plain": [
       "GridSearchCV(cv=5,\n",
       "             estimator=XGBRegressor(base_score=None, booster=None,\n",
       "                                    colsample_bylevel=None,\n",
       "                                    colsample_bynode=None,\n",
       "                                    colsample_bytree=None, gamma=None,\n",
       "                                    gpu_id=None, importance_type='gain',\n",
       "                                    interaction_constraints=None,\n",
       "                                    learning_rate=None, max_delta_step=None,\n",
       "                                    max_depth=None, min_child_weight=None,\n",
       "                                    missing=nan, monotone_constraints=None,\n",
       "                                    n_estimators=100, n_jobs=None,\n",
       "                                    num_parallel_tree=None, random_state=42,\n",
       "                                    reg_alpha=None, reg_lambda=None,\n",
       "                                    scale_pos_weight=None, subsample=None,\n",
       "                                    tree_method=None, validate_parameters=None,\n",
       "                                    verbosity=None),\n",
       "             param_grid={'max_depth': [5, 14]},\n",
       "             scoring='neg_root_mean_squared_error', verbose=3)"
      ]
     },
     "execution_count": 62,
     "metadata": {},
     "output_type": "execute_result"
    }
   ],
   "source": [
    "GridSearchCV(xgb_regres, param_grid, cv=5, scoring='neg_root_mean_squared_error', verbose=3)"
   ]
  },
  {
   "cell_type": "code",
   "execution_count": 63,
   "metadata": {},
   "outputs": [
    {
     "name": "stdout",
     "output_type": "stream",
     "text": [
      "Fitting 5 folds for each of 2 candidates, totalling 10 fits\n",
      "[CV] max_depth=5 .....................................................\n"
     ]
    },
    {
     "name": "stderr",
     "output_type": "stream",
     "text": [
      "[Parallel(n_jobs=1)]: Using backend SequentialBackend with 1 concurrent workers.\n"
     ]
    },
    {
     "name": "stdout",
     "output_type": "stream",
     "text": [
      "[CV] ....................... max_depth=5, score=-11.895, total=   0.2s\n",
      "[CV] max_depth=5 .....................................................\n",
      "[CV] ....................... max_depth=5, score=-11.575, total=   0.2s\n",
      "[CV] max_depth=5 .....................................................\n"
     ]
    },
    {
     "name": "stderr",
     "output_type": "stream",
     "text": [
      "[Parallel(n_jobs=1)]: Done   1 out of   1 | elapsed:    0.1s remaining:    0.0s\n",
      "[Parallel(n_jobs=1)]: Done   2 out of   2 | elapsed:    0.3s remaining:    0.0s\n"
     ]
    },
    {
     "name": "stdout",
     "output_type": "stream",
     "text": [
      "[CV] ....................... max_depth=5, score=-11.384, total=   0.2s\n",
      "[CV] max_depth=5 .....................................................\n",
      "[CV] ....................... max_depth=5, score=-10.527, total=   0.3s\n",
      "[CV] max_depth=5 .....................................................\n",
      "[CV] ....................... max_depth=5, score=-10.817, total=   0.2s\n",
      "[CV] max_depth=14 ....................................................\n",
      "[CV] ...................... max_depth=14, score=-12.201, total=   0.2s\n",
      "[CV] max_depth=14 ....................................................\n",
      "[CV] ...................... max_depth=14, score=-11.678, total=   0.2s\n",
      "[CV] max_depth=14 ....................................................\n",
      "[CV] ...................... max_depth=14, score=-11.772, total=   0.2s\n",
      "[CV] max_depth=14 ....................................................\n",
      "[CV] ...................... max_depth=14, score=-10.534, total=   0.3s\n",
      "[CV] max_depth=14 ....................................................\n",
      "[CV] ...................... max_depth=14, score=-10.594, total=   0.3s\n"
     ]
    },
    {
     "name": "stderr",
     "output_type": "stream",
     "text": [
      "[Parallel(n_jobs=1)]: Done  10 out of  10 | elapsed:    2.1s finished\n"
     ]
    },
    {
     "data": {
      "text/plain": [
       "GridSearchCV(cv=5,\n",
       "             estimator=XGBRegressor(base_score=None, booster=None,\n",
       "                                    colsample_bylevel=None,\n",
       "                                    colsample_bynode=None,\n",
       "                                    colsample_bytree=None, gamma=None,\n",
       "                                    gpu_id=None, importance_type='gain',\n",
       "                                    interaction_constraints=None,\n",
       "                                    learning_rate=None, max_delta_step=None,\n",
       "                                    max_depth=None, min_child_weight=None,\n",
       "                                    missing=nan, monotone_constraints=None,\n",
       "                                    n_estimators=100, n_jobs=None,\n",
       "                                    num_parallel_tree=None, random_state=42,\n",
       "                                    reg_alpha=None, reg_lambda=None,\n",
       "                                    scale_pos_weight=None, subsample=None,\n",
       "                                    tree_method=None, validate_parameters=None,\n",
       "                                    verbosity=None),\n",
       "             param_grid={'max_depth': [5, 14]},\n",
       "             scoring='neg_mean_absolute_error', verbose=3)"
      ]
     },
     "execution_count": 63,
     "metadata": {},
     "output_type": "execute_result"
    }
   ],
   "source": [
    "gs.fit(X_test_imp_df, y_test)"
   ]
  },
  {
   "cell_type": "code",
   "execution_count": null,
   "metadata": {},
   "outputs": [],
   "source": []
  }
 ],
 "metadata": {
  "kernelspec": {
   "display_name": "Python (learn-env)",
   "language": "python",
   "name": "learn-env"
  },
  "language_info": {
   "codemirror_mode": {
    "name": "ipython",
    "version": 3
   },
   "file_extension": ".py",
   "mimetype": "text/x-python",
   "name": "python",
   "nbconvert_exporter": "python",
   "pygments_lexer": "ipython3",
   "version": "3.8.5"
  }
 },
 "nbformat": 4,
 "nbformat_minor": 4
}
