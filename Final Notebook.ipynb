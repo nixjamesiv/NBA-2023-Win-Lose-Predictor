{
 "cells": [
  {
   "cell_type": "markdown",
   "metadata": {},
   "source": [
    "# NBA-2023-Win-Lose-Predictor"
   ]
  },
  {
   "cell_type": "markdown",
   "metadata": {},
   "source": [
    "## Overview\n",
    "\n",
    "This project centered around a model that predicts the outcome of the NBA's next season. 205 Sports Solutions was founded in order to help NBA teams have a better idea of their future by the numbers in order to know what to expect with their future and thus set out the correct long term plan for success. In order to create our model we use data based on [ESPN](https://www.espn.com/nba/stats/player/_/season/2001/seasontype/2/table/offensive/sort/avgPoints/dir/desc), [nba.com](https://www.nba.com/stats/teams/boxscores/?Season=2021-22&SeasonType=Regular%20Season) and [Basketball-Reference.com](https://www.basketball-reference.com/teams/) from the 2001 to the 2022 NBA seasons and analyzed 1,821 games during that span. We used player rankings and expirence from pre-season and season games to determine the points that each team scored in a post-season game to determine the winner of that game."
   ]
  },
  {
   "cell_type": "markdown",
   "metadata": {},
   "source": [
    "## Business Problem\n",
    "\n",
    "We were hired by an anonymous gambler to create a model that can predict future outcomes of NBA games in regards to winning or losing. By doing so we can aid our stakeholders in accumulating more money through betting on NBA games."
   ]
  },
  {
   "cell_type": "markdown",
   "metadata": {},
   "source": [
    "## Data Understanding\n",
    "\n",
    "The data sets we used to create our models came from an [ESPN](https://www.espn.com/nba/stats/player/_/season/2001/seasontype/2/table/offensive/sort/avgPoints/dir/desc) database, [nba.com](https://www.nba.com/stats/teams/boxscores/?Season=2021-22&SeasonType=Regular%20Season) and data from [Basketball-Reference.com](https://www.basketball-reference.com/teams/). The data included 1,821 games from seasons between 2011-2022. We then combined the 3 data sets by player ranking, team, and game data which combined the player and team data sets which then allowed for the player rank to be next to each player and then we found each team in the game data sets and added in the player rankings. \n",
    "\n",
    "Thus, we used player ranking for a given position to determine the points that that team will score againnst another team. Our model uses player ranking to predict a games scores since ranking is based on the number of points a player scores on average for each game. Thus, ranking is a great predictor for post season games points since ranking is based on points scored in season games prior to the post season games. This means that overall our dataframe has 3642 rows and 43 columns. \n"
   ]
  },
  {
   "cell_type": "markdown",
   "metadata": {},
   "source": [
    "## Modeling"
   ]
  },
  {
   "cell_type": "markdown",
   "metadata": {},
   "source": [
    "### Preparation"
   ]
  },
  {
   "cell_type": "markdown",
   "metadata": {},
   "source": [
    "#### Imports"
   ]
  },
  {
   "cell_type": "code",
   "execution_count": 2,
   "metadata": {},
   "outputs": [],
   "source": [
    "import pandas as pd\n",
    "from sklearn.tree import DecisionTreeRegressor\n",
    "import xgboost as xgb\n",
    "import numpy as np\n",
    "from sklearn.metrics import mean_squared_error, explained_variance_score, max_error\n",
    "from sklearn.model_selection import train_test_split\n",
    "from sklearn.impute import SimpleImputer\n",
    "from sklearn.model_selection import GridSearchCV\n",
    "import warnings"
   ]
  },
  {
   "cell_type": "code",
   "execution_count": 3,
   "metadata": {},
   "outputs": [],
   "source": [
    "# Removing warnings\n",
    "warnings.filterwarnings(action=\"ignore\")"
   ]
  },
  {
   "cell_type": "markdown",
   "metadata": {},
   "source": [
    "#### Definitions\n",
    "\n",
    "Below is the TeamMatchUpGuesser which can intake a model and then make predictions of two teams scores and thus who one"
   ]
  },
  {
   "cell_type": "code",
   "execution_count": 4,
   "metadata": {},
   "outputs": [],
   "source": [
    "def TeamMatchUpGuesser(estimator, holdout, team1, team2):\n",
    "    df = holdout[((holdout[\"team1\"] == team1) & (holdout[\"team2\"] == team2)) | ((holdout[\"team2\"] == team1) & (holdout[\"team1\"] == team2))]\n",
    "    pred_input_df = df.drop(columns=[\"pts\",\"team2\",\"team1\",\"game_date\"])\n",
    "    names_df = df.drop(columns=pred_input_df.columns.tolist())\n",
    "#     print(pred_input_df.columns)\n",
    "    for col in pos_col:\n",
    "        pred_input_df[col+\" is null\"] = df[col].isna()\n",
    "    X_imp = num_imp.transform(pred_input_df)\n",
    "    X_imp_df = pd.DataFrame(X_imp)\n",
    "\n",
    "    for col in X_train_imp_df.columns:\n",
    "        X_imp_df[col] = X_imp_df[col].astype(float)\n",
    "    \n",
    "    \n",
    "    y_hat = list(estimator.predict(X_imp_df))\n",
    "    names_df[\"preds\"] = y_hat\n",
    "    print(names_df.head(2))"
   ]
  },
  {
   "cell_type": "markdown",
   "metadata": {},
   "source": [
    "#### Data set obsevation and cleaning"
   ]
  },
  {
   "cell_type": "code",
   "execution_count": 7,
   "metadata": {},
   "outputs": [
    {
     "name": "stdout",
     "output_type": "stream",
     "text": [
      "['game_date', 'pts', 'team1-1-power-forward', 'team1-1-point-guard', 'team1-1-shooting-guard', 'team1-1-small-forward', 'team1-1-center', 'team1-1-power-forward-exp', 'team1-1-point-guard-exp', 'team1-1-shooting-guard-exp', 'team1-1-small-forward-exp', 'team1-1-center-exp', 'team1-2-power-forward', 'team1-2-point-guard', 'team1-2-shooting-guard', 'team1-2-small-forward', 'team1-2-center', 'team1-2-power-forward-exp', 'team1-2-point-guard-exp', 'team1-2-shooting-guard-exp', 'team1-2-small-forward-exp', 'team1-2-center-exp', 'team2-1-power-forward', 'team2-1-point-guard', 'team2-1-shooting-guard', 'team2-1-small-forward', 'team2-1-center', 'team2-1-power-forward-exp', 'team2-1-point-guard-exp', 'team2-1-shooting-guard-exp', 'team2-1-small-forward-exp', 'team2-1-center-exp', 'team2-2-power-forward', 'team2-2-point-guard', 'team2-2-shooting-guard', 'team2-2-small-forward', 'team2-2-center', 'team2-2-power-forward-exp', 'team2-2-point-guard-exp', 'team2-2-shooting-guard-exp', 'team2-2-small-forward-exp', 'team2-2-center-exp', 'team2', 'team1']\n"
     ]
    },
    {
     "data": {
      "text/html": [
       "<div>\n",
       "<style scoped>\n",
       "    .dataframe tbody tr th:only-of-type {\n",
       "        vertical-align: middle;\n",
       "    }\n",
       "\n",
       "    .dataframe tbody tr th {\n",
       "        vertical-align: top;\n",
       "    }\n",
       "\n",
       "    .dataframe thead th {\n",
       "        text-align: right;\n",
       "    }\n",
       "</style>\n",
       "<table border=\"1\" class=\"dataframe\">\n",
       "  <thead>\n",
       "    <tr style=\"text-align: right;\">\n",
       "      <th></th>\n",
       "      <th>game_date</th>\n",
       "      <th>pts</th>\n",
       "      <th>team1-1-power-forward</th>\n",
       "      <th>team1-1-point-guard</th>\n",
       "      <th>team1-1-shooting-guard</th>\n",
       "      <th>team1-1-small-forward</th>\n",
       "      <th>team1-1-center</th>\n",
       "      <th>team1-1-power-forward-exp</th>\n",
       "      <th>team1-1-point-guard-exp</th>\n",
       "      <th>team1-1-shooting-guard-exp</th>\n",
       "      <th>...</th>\n",
       "      <th>team2-2-shooting-guard</th>\n",
       "      <th>team2-2-small-forward</th>\n",
       "      <th>team2-2-center</th>\n",
       "      <th>team2-2-power-forward-exp</th>\n",
       "      <th>team2-2-point-guard-exp</th>\n",
       "      <th>team2-2-shooting-guard-exp</th>\n",
       "      <th>team2-2-small-forward-exp</th>\n",
       "      <th>team2-2-center-exp</th>\n",
       "      <th>team2</th>\n",
       "      <th>team1</th>\n",
       "    </tr>\n",
       "  </thead>\n",
       "  <tbody>\n",
       "    <tr>\n",
       "      <th>0</th>\n",
       "      <td>2022</td>\n",
       "      <td>103</td>\n",
       "      <td>68</td>\n",
       "      <td>5</td>\n",
       "      <td>157</td>\n",
       "      <td>73</td>\n",
       "      <td>57</td>\n",
       "      <td>6</td>\n",
       "      <td>12</td>\n",
       "      <td>3</td>\n",
       "      <td>...</td>\n",
       "      <td>151</td>\n",
       "      <td>77</td>\n",
       "      <td>25</td>\n",
       "      <td>1</td>\n",
       "      <td>7</td>\n",
       "      <td>17</td>\n",
       "      <td>1</td>\n",
       "      <td>14</td>\n",
       "      <td>BOS</td>\n",
       "      <td>GSW</td>\n",
       "    </tr>\n",
       "    <tr>\n",
       "      <th>1</th>\n",
       "      <td>2022</td>\n",
       "      <td>90</td>\n",
       "      <td>105</td>\n",
       "      <td>63</td>\n",
       "      <td>5</td>\n",
       "      <td>87</td>\n",
       "      <td>71</td>\n",
       "      <td>2</td>\n",
       "      <td>1</td>\n",
       "      <td>5</td>\n",
       "      <td>...</td>\n",
       "      <td>150</td>\n",
       "      <td>13</td>\n",
       "      <td>84</td>\n",
       "      <td>9</td>\n",
       "      <td>17</td>\n",
       "      <td>R</td>\n",
       "      <td>7</td>\n",
       "      <td>17</td>\n",
       "      <td>GSW</td>\n",
       "      <td>BOS</td>\n",
       "    </tr>\n",
       "    <tr>\n",
       "      <th>2</th>\n",
       "      <td>2022</td>\n",
       "      <td>104</td>\n",
       "      <td>68</td>\n",
       "      <td>5</td>\n",
       "      <td>157</td>\n",
       "      <td>73</td>\n",
       "      <td>57</td>\n",
       "      <td>6</td>\n",
       "      <td>12</td>\n",
       "      <td>3</td>\n",
       "      <td>...</td>\n",
       "      <td>151</td>\n",
       "      <td>77</td>\n",
       "      <td>25</td>\n",
       "      <td>1</td>\n",
       "      <td>7</td>\n",
       "      <td>17</td>\n",
       "      <td>1</td>\n",
       "      <td>14</td>\n",
       "      <td>BOS</td>\n",
       "      <td>GSW</td>\n",
       "    </tr>\n",
       "    <tr>\n",
       "      <th>3</th>\n",
       "      <td>2022</td>\n",
       "      <td>94</td>\n",
       "      <td>105</td>\n",
       "      <td>63</td>\n",
       "      <td>5</td>\n",
       "      <td>87</td>\n",
       "      <td>71</td>\n",
       "      <td>2</td>\n",
       "      <td>1</td>\n",
       "      <td>5</td>\n",
       "      <td>...</td>\n",
       "      <td>150</td>\n",
       "      <td>13</td>\n",
       "      <td>84</td>\n",
       "      <td>9</td>\n",
       "      <td>17</td>\n",
       "      <td>R</td>\n",
       "      <td>7</td>\n",
       "      <td>17</td>\n",
       "      <td>GSW</td>\n",
       "      <td>BOS</td>\n",
       "    </tr>\n",
       "    <tr>\n",
       "      <th>4</th>\n",
       "      <td>2022</td>\n",
       "      <td>107</td>\n",
       "      <td>68</td>\n",
       "      <td>5</td>\n",
       "      <td>157</td>\n",
       "      <td>73</td>\n",
       "      <td>57</td>\n",
       "      <td>6</td>\n",
       "      <td>12</td>\n",
       "      <td>3</td>\n",
       "      <td>...</td>\n",
       "      <td>151</td>\n",
       "      <td>77</td>\n",
       "      <td>25</td>\n",
       "      <td>1</td>\n",
       "      <td>7</td>\n",
       "      <td>17</td>\n",
       "      <td>1</td>\n",
       "      <td>14</td>\n",
       "      <td>BOS</td>\n",
       "      <td>GSW</td>\n",
       "    </tr>\n",
       "  </tbody>\n",
       "</table>\n",
       "<p>5 rows × 44 columns</p>\n",
       "</div>"
      ],
      "text/plain": [
       "   game_date  pts  team1-1-power-forward team1-1-point-guard  \\\n",
       "0       2022  103                     68                   5   \n",
       "1       2022   90                    105                  63   \n",
       "2       2022  104                     68                   5   \n",
       "3       2022   94                    105                  63   \n",
       "4       2022  107                     68                   5   \n",
       "\n",
       "  team1-1-shooting-guard team1-1-small-forward team1-1-center  \\\n",
       "0                    157                    73             57   \n",
       "1                      5                    87             71   \n",
       "2                    157                    73             57   \n",
       "3                      5                    87             71   \n",
       "4                    157                    73             57   \n",
       "\n",
       "  team1-1-power-forward-exp team1-1-point-guard-exp  \\\n",
       "0                         6                      12   \n",
       "1                         2                       1   \n",
       "2                         6                      12   \n",
       "3                         2                       1   \n",
       "4                         6                      12   \n",
       "\n",
       "  team1-1-shooting-guard-exp  ... team2-2-shooting-guard  \\\n",
       "0                          3  ...                    151   \n",
       "1                          5  ...                    150   \n",
       "2                          3  ...                    151   \n",
       "3                          5  ...                    150   \n",
       "4                          3  ...                    151   \n",
       "\n",
       "  team2-2-small-forward team2-2-center team2-2-power-forward-exp  \\\n",
       "0                    77             25                         1   \n",
       "1                    13             84                         9   \n",
       "2                    77             25                         1   \n",
       "3                    13             84                         9   \n",
       "4                    77             25                         1   \n",
       "\n",
       "  team2-2-point-guard-exp team2-2-shooting-guard-exp  \\\n",
       "0                       7                         17   \n",
       "1                      17                          R   \n",
       "2                       7                         17   \n",
       "3                      17                          R   \n",
       "4                       7                         17   \n",
       "\n",
       "  team2-2-small-forward-exp team2-2-center-exp team2 team1  \n",
       "0                         1                 14   BOS   GSW  \n",
       "1                         7                 17   GSW   BOS  \n",
       "2                         1                 14   BOS   GSW  \n",
       "3                         7                 17   GSW   BOS  \n",
       "4                         1                 14   BOS   GSW  \n",
       "\n",
       "[5 rows x 44 columns]"
      ]
     },
     "execution_count": 7,
     "metadata": {},
     "output_type": "execute_result"
    }
   ],
   "source": [
    "df = pd.read_csv(\"Data/win_loss_completed_df.csv\")\n",
    "print(list(df.columns))\n",
    "df.head()"
   ]
  },
  {
   "cell_type": "markdown",
   "metadata": {},
   "source": [
    "Creating a list of columns not including points, or teams columns"
   ]
  },
  {
   "cell_type": "code",
   "execution_count": 4,
   "metadata": {},
   "outputs": [],
   "source": [
    "cols = list(df.drop(columns=[\"pts\", \"team1\", \"team2\"]).columns)"
   ]
  },
  {
   "cell_type": "markdown",
   "metadata": {},
   "source": [
    "Turning all the \"Nulls\" into np.nan"
   ]
  },
  {
   "cell_type": "code",
   "execution_count": 5,
   "metadata": {},
   "outputs": [],
   "source": [
    "for col in cols:\n",
    "    for row in df[cols].index:\n",
    "        if df[col][row] == \"Null\":\n",
    "            df[col][row] = np.nan"
   ]
  },
  {
   "cell_type": "markdown",
   "metadata": {},
   "source": [
    "Creating the experience columns list and none expirence columns list"
   ]
  },
  {
   "cell_type": "code",
   "execution_count": 6,
   "metadata": {},
   "outputs": [],
   "source": [
    "exp_col = []\n",
    "pos_col = []\n",
    "for col in cols:\n",
    "    if \"exp\" in col:\n",
    "        exp_col.append(col)\n",
    "    else:\n",
    "        pos_col.append(col)"
   ]
  },
  {
   "cell_type": "markdown",
   "metadata": {},
   "source": [
    "Turning \"R\" which means rookie to 0 as in they have played for 0 years"
   ]
  },
  {
   "cell_type": "code",
   "execution_count": 7,
   "metadata": {},
   "outputs": [],
   "source": [
    "for col in exp_col:\n",
    "    for row in df[cols].index:\n",
    "        if df[col][row] == \"R\":\n",
    "            df[col][row] = 0"
   ]
  },
  {
   "cell_type": "markdown",
   "metadata": {},
   "source": [
    "Holding back 2022 data so that we can build a bracket and compare with the real NBA post season bracket"
   ]
  },
  {
   "cell_type": "code",
   "execution_count": 8,
   "metadata": {},
   "outputs": [],
   "source": [
    "hold_out_df = df[df[\"game_date\"] == 2022]\n",
    "working_df = df[df[\"game_date\"] != 2022]\n",
    "working_df = working_df.drop(columns=[\"game_date\"])"
   ]
  },
  {
   "cell_type": "markdown",
   "metadata": {},
   "source": [
    "Train test split. We will try to predict the points of a game from both teams perspectives"
   ]
  },
  {
   "cell_type": "code",
   "execution_count": 9,
   "metadata": {},
   "outputs": [],
   "source": [
    "X = working_df.drop(columns=[\"pts\"])\n",
    "y = working_df[\"pts\"]\n",
    "X_train, X_test, y_train, y_test = train_test_split(X, y, random_state=42, test_size=.2)"
   ]
  },
  {
   "cell_type": "markdown",
   "metadata": {},
   "source": [
    "Creating null indicator columns"
   ]
  },
  {
   "cell_type": "code",
   "execution_count": 10,
   "metadata": {},
   "outputs": [],
   "source": [
    "for col in pos_col:\n",
    "    X_train[col+\" is null\"] = df[col].isna()\n",
    "    X_test[col+\" is null\"] = df[col].isna()"
   ]
  },
  {
   "cell_type": "markdown",
   "metadata": {},
   "source": [
    "Turning the nulls into the mean since we are going over the ranking columns and the ranking is evenly spread and has an upper limit"
   ]
  },
  {
   "cell_type": "code",
   "execution_count": 11,
   "metadata": {},
   "outputs": [],
   "source": [
    "num_imp = SimpleImputer(strategy='mean')\n",
    "num_imp.fit(X_train.drop(columns=[\"team1\", \"team2\"]))\n",
    "\n",
    "X_train_imp = num_imp.transform(X_train.drop(columns=[\"team1\", \"team2\"]))\n",
    "X_test_imp = num_imp.transform(X_test.drop(columns=[\"team1\", \"team2\"]))"
   ]
  },
  {
   "cell_type": "markdown",
   "metadata": {},
   "source": [
    "Turning all the columns into floats, currently the ranking columns are objects"
   ]
  },
  {
   "cell_type": "code",
   "execution_count": 12,
   "metadata": {},
   "outputs": [],
   "source": [
    "X_train_imp_df = pd.DataFrame(X_train_imp)\n",
    "X_test_imp_df = pd.DataFrame(X_test_imp)\n",
    "\n",
    "for col in X_train_imp_df.columns:\n",
    "    X_train_imp_df[col] = X_train_imp_df[col].astype(float)\n",
    "    X_test_imp_df[col] = X_test_imp_df[col].astype(float)"
   ]
  },
  {
   "cell_type": "markdown",
   "metadata": {},
   "source": [
    "### The Models"
   ]
  },
  {
   "cell_type": "markdown",
   "metadata": {},
   "source": [
    "#### FSM\n",
    "\n",
    "The model following was our first model, and was not ideal. We decided to go with a decision tree model to both see how challenging a problem this may be and to see how good a model could be. Our decision tree model is unkempt and free ranged meaning it should be perfectly accurate on the training data. If it is not then our models will likely be unable to do better."
   ]
  },
  {
   "cell_type": "code",
   "execution_count": 14,
   "metadata": {},
   "outputs": [
    {
     "name": "stdout",
     "output_type": "stream",
     "text": [
      "Train set: mean squared error 9.427153608164073 max error 45.5 Explained variance 0.21188258480127609\n",
      "Test set: mean squared error 12.077867093119222 max error 39.5 Explained variance 0.21188258480127609\n"
     ]
    }
   ],
   "source": [
    "tree = DecisionTreeRegressor()\n",
    "# fitting the data\n",
    "tree.fit(X_train_imp_df, y_train)\n",
    "# predictions\n",
    "y_hat_train = tree.predict(X_train_imp_df) \n",
    "y_hat_test = tree.predict(X_test_imp_df) \n",
    "# printing the score\n",
    "print(\"Train set: mean squared error\", str(mean_squared_error(y_train, y_hat_train, squared=False)), \"max error\", str(max_error(y_train, y_hat_train)), \"Explained variance\", str(explained_variance_score(y_test, y_hat_test)))\n",
    "print(\"Test set: mean squared error\", str(mean_squared_error(y_test, y_hat_test, squared=False)), \"max error\", str(max_error(y_test, y_hat_test)), \"Explained variance\", str(explained_variance_score(y_test, y_hat_test)))\n"
   ]
  },
  {
   "cell_type": "markdown",
   "metadata": {},
   "source": [
    "As we can see this model is overfit meaning that it is more accurate on the training than the testing. But the model is not 100% accurate which decission tree models can do if there is enough data. \n",
    "\n",
    "Since this model is not 100% accurate likely we will need more data if we want to get a score better than +/- 9.4 points.\n",
    "\n",
    "The max error is pretty high on both so going foward we tried to minimize max error as we decrease mean squared error.\n",
    "\n",
    "An explained variance of 0.28 suggests that there is alot of data that is not taken into account for this model."
   ]
  },
  {
   "cell_type": "markdown",
   "metadata": {},
   "source": [
    "#### XGB model\n",
    "\n",
    "The next model is a XGBoost model."
   ]
  },
  {
   "cell_type": "code",
   "execution_count": 15,
   "metadata": {},
   "outputs": [],
   "source": [
    "param_grid = {\n",
    "    \"max_depth\": [5],\n",
    "    \"learning_rate\" : [.1],\n",
    "    \"num_parallel_tree\" : [15]\n",
    "}\n",
    "xgb_regres = xgb.XGBRegressor(random_state=42)"
   ]
  },
  {
   "cell_type": "code",
   "execution_count": 16,
   "metadata": {},
   "outputs": [
    {
     "data": {
      "text/plain": [
       "GridSearchCV(cv=5,\n",
       "             estimator=XGBRegressor(base_score=None, booster=None,\n",
       "                                    colsample_bylevel=None,\n",
       "                                    colsample_bynode=None,\n",
       "                                    colsample_bytree=None, gamma=None,\n",
       "                                    gpu_id=None, importance_type='gain',\n",
       "                                    interaction_constraints=None,\n",
       "                                    learning_rate=None, max_delta_step=None,\n",
       "                                    max_depth=None, min_child_weight=None,\n",
       "                                    missing=nan, monotone_constraints=None,\n",
       "                                    n_estimators=100, n_jobs=None,\n",
       "                                    num_parallel_tree=None, random_state=42,\n",
       "                                    reg_alpha=None, reg_lambda=None,\n",
       "                                    scale_pos_weight=None, subsample=None,\n",
       "                                    tree_method=None, validate_parameters=None,\n",
       "                                    verbosity=None),\n",
       "             param_grid={'learning_rate': [0.1], 'max_depth': [5],\n",
       "                         'num_parallel_tree': [15]},\n",
       "             scoring='neg_mean_absolute_error')"
      ]
     },
     "execution_count": 16,
     "metadata": {},
     "output_type": "execute_result"
    }
   ],
   "source": [
    "gs1 = GridSearchCV(xgb_regres, param_grid, cv=5, scoring='neg_mean_absolute_error')\n",
    "gs1.fit(X_train_imp_df, y_train)"
   ]
  },
  {
   "cell_type": "code",
   "execution_count": 17,
   "metadata": {},
   "outputs": [
    {
     "name": "stdout",
     "output_type": "stream",
     "text": [
      "Test set: mean squared error 11.523063236672044 max error 38.13196563720703 Explained variance 0.2816532774455486\n"
     ]
    }
   ],
   "source": [
    "best_estimator1 = gs1.best_estimator_\n",
    "y_hat_test1 = best_estimator1.predict(X_test_imp_df)\n",
    "print(\"Test set: mean squared error\", str(mean_squared_error(y_test, y_hat_test1, squared=False)), \"max error\", str(max_error(y_test, y_hat_test1)), \"Explained variance\", str(explained_variance_score(y_test, y_hat_test1)))"
   ]
  },
  {
   "cell_type": "markdown",
   "metadata": {},
   "source": [
    "As we can see the mean squared error was reduced by .5 points and the max error dropped by 1 point. This is not bad especially since our explained variance did not change."
   ]
  },
  {
   "cell_type": "markdown",
   "metadata": {},
   "source": [
    "## Results\n",
    "\n",
    "Below is the results of our xgboosted models prediction on the holdout and specifically what our predictor looks like for one such prediction."
   ]
  },
  {
   "cell_type": "code",
   "execution_count": 19,
   "metadata": {},
   "outputs": [
    {
     "name": "stdout",
     "output_type": "stream",
     "text": [
      "   game_date  pts team2 team1       preds\n",
      "0       2022  103   BOS   GSW  113.530663\n",
      "1       2022   90   GSW   BOS  104.345093\n"
     ]
    }
   ],
   "source": [
    "TeamMatchUpGuesser(best_estimator1, hold_out_df, \"BOS\", \"GSW\")"
   ]
  },
  {
   "cell_type": "markdown",
   "metadata": {},
   "source": [
    "Below we can see how close we got to the actual 2022 bracket. The red Xs indicate what we got wrong with how far off we were written above. The green boxes are where our model predicted correctly. We can see that overall our model got 6 out of 15 correct but the matchups we got wrong most were fairly close. \n",
    "\n",
    "We can see that many of the games we got wrong was because our model does not take into account inactive players due to reasons such as injury, suspension, vaxination status, or otherwise."
   ]
  },
  {
   "cell_type": "markdown",
   "metadata": {},
   "source": [
    "![](Data/Team_bracket_2022.PNG)"
   ]
  },
  {
   "cell_type": "markdown",
   "metadata": {},
   "source": [
    "## Conclusion\n",
    "\n",
    "Despite our model needing some improvements, overall the model successfully predicted the bracket winner and was fairly close to predicitng the winners of each series and therefore should be considered a success.\n"
   ]
  },
  {
   "cell_type": "markdown",
   "metadata": {},
   "source": [
    "## For More Information\n",
    "\n",
    "- [ESPN](https://www.espn.com/nba/stats/player/_/season/2001/seasontype/2/table/offensive/sort/avgPoints/dir/desc)\n",
    "- [nba.com](https://www.nba.com/stats/teams/boxscores/?Season=2021-22&SeasonType=Regular%20Season)\n",
    "- [Basketball-Reference.com](https://www.basketball-reference.com/teams/)\n"
   ]
  },
  {
   "cell_type": "code",
   "execution_count": null,
   "metadata": {},
   "outputs": [],
   "source": []
  }
 ],
 "metadata": {
  "kernelspec": {
   "display_name": "Python (learn-env)",
   "language": "python",
   "name": "learn-env"
  },
  "language_info": {
   "codemirror_mode": {
    "name": "ipython",
    "version": 3
   },
   "file_extension": ".py",
   "mimetype": "text/x-python",
   "name": "python",
   "nbconvert_exporter": "python",
   "pygments_lexer": "ipython3",
   "version": "3.8.5"
  }
 },
 "nbformat": 4,
 "nbformat_minor": 4
}
